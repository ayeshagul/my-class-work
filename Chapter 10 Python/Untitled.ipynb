{
 "cells": [
  {
   "cell_type": "markdown",
   "metadata": {},
   "source": [
    "# Comparison operators\n",
    "#equality operator."
   ]
  },
  {
   "cell_type": "code",
   "execution_count": 2,
   "metadata": {},
   "outputs": [
    {
     "ename": "IndentationError",
     "evalue": "unexpected indent (<ipython-input-2-f36552448f7d>, line 4)",
     "output_type": "error",
     "traceback": [
      "\u001b[1;36m  File \u001b[1;32m\"<ipython-input-2-f36552448f7d>\"\u001b[1;36m, line \u001b[1;32m4\u001b[0m\n\u001b[1;33m    print(5)\u001b[0m\n\u001b[1;37m    ^\u001b[0m\n\u001b[1;31mIndentationError\u001b[0m\u001b[1;31m:\u001b[0m unexpected indent\n"
     ]
    }
   ],
   "source": [
    "a = 5\n",
    "b = 3\n",
    "if a == 3: k\n",
    "    print(5)\n",
    "else:\n",
    "    print(3)"
   ]
  },
  {
   "cell_type": "code",
   "execution_count": null,
   "metadata": {},
   "outputs": [],
   "source": [
    "#!=, is the opposite of ==. It means is not equal to. "
   ]
  },
  {
   "cell_type": "code",
   "execution_count": 3,
   "metadata": {},
   "outputs": [
    {
     "name": "stdout",
     "output_type": "stream",
     "text": [
      "number do not match to 45555\n"
     ]
    }
   ],
   "source": [
    "your_ticket_number = 455555 \n",
    "if your_ticket_number != 487208:\n",
    "    print(\"number do not match to 45555\")\n",
    "else:\n",
    "    print(\"another number\")"
   ]
  },
  {
   "cell_type": "code",
   "execution_count": 4,
   "metadata": {},
   "outputs": [
    {
     "ename": "SyntaxError",
     "evalue": "invalid syntax (<ipython-input-4-8c2984329c42>, line 1)",
     "output_type": "error",
     "traceback": [
      "\u001b[1;36m  File \u001b[1;32m\"<ipython-input-4-8c2984329c42>\"\u001b[1;36m, line \u001b[1;32m1\u001b[0m\n\u001b[1;33m    > is greater than < is less than >= is greater than or equal to <= is less than or equal to\u001b[0m\n\u001b[1;37m    ^\u001b[0m\n\u001b[1;31mSyntaxError\u001b[0m\u001b[1;31m:\u001b[0m invalid syntax\n"
     ]
    }
   ],
   "source": [
    "> is greater than < is less than >= is greater than or equal to <= is less than or equal to "
   ]
  },
  {
   "cell_type": "code",
   "execution_count": null,
   "metadata": {},
   "outputs": [],
   "source": [
    "number1 = 5\n",
    "number2 = 6\n",
    "if number1 < number2:\n",
    "    print(\"less than means number1 is less than number2\")\n",
    "elif number1 > number2:\n",
    "    print(\"greater than means number1 is greater than number2\")\n",
    "else:\n",
    "    print(\"number1 is equal to number2\")"
   ]
  },
  {
   "cell_type": "code",
   "execution_count": null,
   "metadata": {},
   "outputs": [],
   "source": [
    "if 0 < 1: # 1 less than\n",
    "if 1 >= 0: #0 greater than equal two\n",
    "if 1 >= 1: #1 greater than 1 equal two\n",
    "if 0 <= 1: # 0 less than equal 1\n",
    "if 1 <= 1: #1 less than equal 1"
   ]
  },
  {
   "cell_type": "code",
   "execution_count": null,
   "metadata": {},
   "outputs": [],
   "source": [
    "#9>7 is read as '9 is greater than 7'\n",
    "#> greater than sign"
   ]
  },
  {
   "cell_type": "code",
   "execution_count": null,
   "metadata": {},
   "outputs": [],
   "source": [
    "#< less than sign"
   ]
  },
  {
   "cell_type": "markdown",
   "metadata": {},
   "source": [
    "# else and elif statement\n",
    "# chapter 11:"
   ]
  },
  {
   "cell_type": "code",
   "execution_count": null,
   "metadata": {},
   "outputs": [],
   "source": [
    "animal = input(\"enter any animal name\")\n",
    "if animal == \"Cat\":\n",
    "    print(\"animal\")\n",
    "elif animal != \"cat\":\n",
    "    print(\"this is not an animal...! \")\n",
    "else:\n",
    "    print(\"try again\")"
   ]
  },
  {
   "cell_type": "code",
   "execution_count": null,
   "metadata": {},
   "outputs": [],
   "source": [
    "age = int(input(\"enter the person age\"))\n",
    "if age >= 18:\n",
    "    print(\"Adult\")#18 year person is adult mtlb jawan hta h.\n",
    "elif age <= 18:\n",
    "    print(\"Not Adult\")\n",
    "else:\n",
    "      print(\"Try Again\")  "
   ]
  },
  {
   "cell_type": "code",
   "execution_count": 8,
   "metadata": {},
   "outputs": [
    {
     "name": "stdout",
     "output_type": "stream",
     "text": [
      "enter the donut conditionlow\n",
      "it is 5\n"
     ]
    }
   ],
   "source": [
    "donut =input(\"enter the donut condition\")\n",
    "#int tb likhe jb input 1 2 3 ya koi number dalna hta \n",
    "if donut == \"fresh\": \n",
    "    print(\"it is 10\")\n",
    "elif donut == \"low\":\n",
    "    print(\"it is 5\")   \n",
    "else: \n",
    "    print(\"it is 0...! Try again\")"
   ]
  },
  {
   "cell_type": "markdown",
   "metadata": {},
   "source": [
    "# chapter 12 Testing sets of conditions\n"
   ]
  },
  {
   "cell_type": "code",
   "execution_count": 10,
   "metadata": {},
   "outputs": [
    {
     "name": "stdout",
     "output_type": "stream",
     "text": [
      "Enter age?17\n",
      "Enter course?PAF-KIET\n",
      "you are not selected in PIAC\n"
     ]
    }
   ],
   "source": [
    "age = int(input(\"Enter age?\"))\n",
    "course = input(\"Enter course?\")\n",
    "if age >= 18 and course == \"PIAIC\":\n",
    "#multiple condition ke le use hta and && or || and not equal !=\n",
    "    print(\"you are selected in PIAC\")\n",
    "else:\n",
    "    print(\"you are not selected in PIAC\")"
   ]
  },
  {
   "cell_type": "code",
   "execution_count": null,
   "metadata": {},
   "outputs": [],
   "source": []
  }
 ],
 "metadata": {
  "kernelspec": {
   "display_name": "Python 3",
   "language": "python",
   "name": "python3"
  },
  "language_info": {
   "codemirror_mode": {
    "name": "ipython",
    "version": 3
   },
   "file_extension": ".py",
   "mimetype": "text/x-python",
   "name": "python",
   "nbconvert_exporter": "python",
   "pygments_lexer": "ipython3",
   "version": "3.7.3"
  }
 },
 "nbformat": 4,
 "nbformat_minor": 2
}
