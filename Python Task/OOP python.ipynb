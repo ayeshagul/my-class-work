{
 "cells": [
  {
   "cell_type": "markdown",
   "metadata": {},
   "source": [
    "# OOP = Object Oriented Programming"
   ]
  },
  {
   "cell_type": "raw",
   "metadata": {},
   "source": [
    "Object:\n",
    "  Method\n",
    "  Attribute\n",
    "similar method belong to similar class:name,color,height\n",
    "property same but their value is different:Run,walk"
   ]
  },
  {
   "cell_type": "code",
   "execution_count": 31,
   "metadata": {},
   "outputs": [],
   "source": [
    "##Class: A class represents a set of objects that share common structure and a common behavior.\n",
    "##Class\n",
    "class  Man():#initialize\n",
    "    #class is the blue print and its cannot be accessible(directly cannot exits)\n",
    "    #def Man()#constructor\n",
    "    def __init__(self,name,fname,qualification): #constructor, #self key work used to treat each object individually\n",
    "        self.name = name #properties/attribute\n",
    "        self.fname = fname\n",
    "        self.qualification = qualification\n",
    "       \n",
    "    #if we make def inside the class method and we we make def outside the class function\n",
    "    def sleeping(self, snooring=\"khhahaha!\"):#method\n",
    "        print(snooring)\n",
    "        \n",
    "    def eating (self, bread=\"Roti\"):#method\n",
    "        print(bread)\n",
    "        \n",
    "    def walking (self, speed=\"Roti\"):#method\n",
    "        print(speed)\n",
    "        \n",
    "    def watching (self, watch=\"TV\"):#method\n",
    "        print(watch)  "
   ]
  },
  {
   "cell_type": "code",
   "execution_count": 32,
   "metadata": {},
   "outputs": [],
   "source": [
    "#object\n",
    "obj1 = Man(\"Zohaib\",\"Akram\",\"BS-ERP\")\n",
    "obj2 = Man(\"Usman\",\"Ramzan\",\"Intermedia\")\n",
    "obj3 = Man(\"Farhad\",\"Asghar\",\"BS-ERP\")\n"
   ]
  },
  {
   "cell_type": "code",
   "execution_count": 33,
   "metadata": {},
   "outputs": [
    {
     "name": "stdout",
     "output_type": "stream",
     "text": [
      "Zohaib\n",
      "Usman\n",
      "Farhad\n"
     ]
    }
   ],
   "source": [
    "#calling\n",
    "print(obj1.name)\n",
    "print(obj2.name)\n",
    "print(obj3.name)"
   ]
  },
  {
   "cell_type": "code",
   "execution_count": 7,
   "metadata": {},
   "outputs": [
    {
     "name": "stdout",
     "output_type": "stream",
     "text": [
      "Botiii\n"
     ]
    }
   ],
   "source": [
    "obj1.eating(\"Botiii\")"
   ]
  },
  {
   "cell_type": "code",
   "execution_count": 8,
   "metadata": {},
   "outputs": [
    {
     "name": "stdout",
     "output_type": "stream",
     "text": [
      "half sleep\n"
     ]
    }
   ],
   "source": [
    "obj2.sleeping(\"half sleep\")"
   ]
  },
  {
   "cell_type": "code",
   "execution_count": 15,
   "metadata": {},
   "outputs": [],
   "source": [
    "#class 2 task\n",
    "class  Computer():#initialize\n",
    "    #class is the blue print and its cannot be accessible\n",
    "    #def Man()#constructor\n",
    "    def __init__(self,name,brand): #constructor, #self key work used to treat each object individually\n",
    "        self.name = name #properties/attribute\n",
    "        self.brand = brand\n",
    "            #if we make def inside the class method and we we make def outside the class function\n",
    "    def performing(self, speed=3):#method\n",
    "        print(speed)\n",
    "        \n",
    "    def executing (self, check=\"fast\"):#method\n",
    "        print(check)\n",
    "        \n",
    "    def work(self, task=\"multitasking\"):#method\n",
    "        print(task)"
   ]
  },
  {
   "cell_type": "code",
   "execution_count": 16,
   "metadata": {},
   "outputs": [],
   "source": [
    "#object declare\n",
    "obj = Computer(\"Dell\",\"Intel\")"
   ]
  },
  {
   "cell_type": "code",
   "execution_count": 17,
   "metadata": {},
   "outputs": [
    {
     "name": "stdout",
     "output_type": "stream",
     "text": [
      "Dell\n"
     ]
    }
   ],
   "source": [
    "print(obj.name)"
   ]
  },
  {
   "cell_type": "code",
   "execution_count": 18,
   "metadata": {},
   "outputs": [
    {
     "name": "stdout",
     "output_type": "stream",
     "text": [
      "slow\n"
     ]
    }
   ],
   "source": [
    "obj.executing(\"slow\")"
   ]
  },
  {
   "cell_type": "code",
   "execution_count": 19,
   "metadata": {},
   "outputs": [],
   "source": [
    "#inheritance\n",
    "class Baba(Man):\n",
    "    pass\n",
    "#instance = to belong which class"
   ]
  },
  {
   "cell_type": "code",
   "execution_count": 20,
   "metadata": {},
   "outputs": [],
   "source": [
    "obj4 = Baba(\"Usama\",\"M.Fida\",\"BS-ERP\")"
   ]
  },
  {
   "cell_type": "code",
   "execution_count": 21,
   "metadata": {},
   "outputs": [
    {
     "name": "stdout",
     "output_type": "stream",
     "text": [
      "Usama\n"
     ]
    }
   ],
   "source": [
    "print(obj4.name)"
   ]
  },
  {
   "cell_type": "code",
   "execution_count": 22,
   "metadata": {},
   "outputs": [
    {
     "name": "stdout",
     "output_type": "stream",
     "text": [
      "Chaliya\n"
     ]
    }
   ],
   "source": [
    "obj4.eating(\"Chaliya\")"
   ]
  },
  {
   "cell_type": "code",
   "execution_count": 26,
   "metadata": {},
   "outputs": [],
   "source": [
    "#task 2\n",
    "class Baba():\n",
    "    def __init__ (self,name,fname,voice):\n",
    "        self.name = name\n",
    "        self.fname = fname\n",
    "    def voice(self,male=\"I am male\",female=\"I am female\"):\n",
    "        if voice == male:\n",
    "            print(male)\n",
    "        else:\n",
    "            print(female)"
   ]
  },
  {
   "cell_type": "code",
   "execution_count": null,
   "metadata": {},
   "outputs": [],
   "source": [
    "class \n",
    "##--------------------------------\n"
   ]
  },
  {
   "cell_type": "code",
   "execution_count": 34,
   "metadata": {},
   "outputs": [
    {
     "ename": "IndentationError",
     "evalue": "unexpected indent (<ipython-input-34-445f1175f0d1>, line 10)",
     "output_type": "error",
     "traceback": [
      "\u001b[1;36m  File \u001b[1;32m\"<ipython-input-34-445f1175f0d1>\"\u001b[1;36m, line \u001b[1;32m10\u001b[0m\n\u001b[1;33m    Man.counter += 1\u001b[0m\n\u001b[1;37m    ^\u001b[0m\n\u001b[1;31mIndentationError\u001b[0m\u001b[1;31m:\u001b[0m unexpected indent\n"
     ]
    }
   ],
   "source": [
    "##class sir\n",
    "##Class\n",
    "class  Man():#initialize\n",
    "    #class is the blue print and its cannot be accessible\n",
    "    #def Man()#constructor\n",
    "    def __init__(self,name,fname,qualification): #constructor, #self key work used to treat each object individually\n",
    "        self.name = name #properties/attribute\n",
    "        self.fname = fname\n",
    "        self.qualification = qualification\n",
    "           Man.counter += 1#class varible\n",
    "               print(\"Total members\",Man.counter)\n",
    "    #if we make def inside the class method and we we make def outside the class function\n",
    "    def sleeping(self, snooring=\"khhahaha!\"):#method\n",
    "        print(snooring)\n",
    "        \n",
    "    def eating (self, bread=\"Roti\"):#method\n",
    "        print(bread)\n",
    "        \n",
    "    def walking (self, speed=\"Roti\"):#method\n",
    "        print(speed)\n",
    "        \n",
    "    def watching (self, watch=\"TV\"):#method\n",
    "        print(watch)  "
   ]
  },
  {
   "cell_type": "code",
   "execution_count": null,
   "metadata": {},
   "outputs": [],
   "source": [
    "#Man.counter #class variable"
   ]
  },
  {
   "cell_type": "code",
   "execution_count": null,
   "metadata": {},
   "outputs": [],
   "source": [
    "#all varible defined by self  keyword"
   ]
  },
  {
   "cell_type": "code",
   "execution_count": null,
   "metadata": {},
   "outputs": [],
   "source": [
    "class  Car():#initialize\n",
    "    #class is the blue print and its cannot be accessible\n",
    "    #def Man()#constructor\n",
    "    def __init__(self,name,brand,mileage):"
   ]
  },
  {
   "cell_type": "markdown",
   "metadata": {},
   "source": [
    "# inheritance"
   ]
  },
  {
   "cell_type": "code",
   "execution_count": null,
   "metadata": {},
   "outputs": [],
   "source": [
    "class A():\n",
    "    def __init__ (this):\n",
    "        this.nationality=\"Pakistan\"\n",
    "        this.language=\"Urdu\"\n",
    "        \n",
    "    def spaking(this,words):\n",
    "        return word\n",
    "\n",
    "class B():\n",
    "    pass"
   ]
  },
  {
   "cell_type": "code",
   "execution_count": 37,
   "metadata": {},
   "outputs": [
    {
     "ename": "TypeError",
     "evalue": "B() takes no arguments",
     "output_type": "error",
     "traceback": [
      "\u001b[1;31m---------------------------------------------------------------------------\u001b[0m",
      "\u001b[1;31mTypeError\u001b[0m                                 Traceback (most recent call last)",
      "\u001b[1;32m<ipython-input-37-5316240e52dd>\u001b[0m in \u001b[0;36m<module>\u001b[1;34m\u001b[0m\n\u001b[1;32m----> 1\u001b[1;33m \u001b[0mobj\u001b[0m \u001b[1;33m=\u001b[0m \u001b[0mB\u001b[0m\u001b[1;33m(\u001b[0m\u001b[1;34m\"Qasim\"\u001b[0m\u001b[1;33m)\u001b[0m\u001b[1;33m\u001b[0m\u001b[1;33m\u001b[0m\u001b[0m\n\u001b[0m",
      "\u001b[1;31mTypeError\u001b[0m: B() takes no arguments"
     ]
    }
   ],
   "source": [
    "obj = B()"
   ]
  },
  {
   "cell_type": "markdown",
   "metadata": {},
   "source": [
    "# polymorphism\n"
   ]
  },
  {
   "cell_type": "code",
   "execution_count": null,
   "metadata": {},
   "outputs": [],
   "source": [
    "#super refer to parent class"
   ]
  },
  {
   "cell_type": "code",
   "execution_count": 41,
   "metadata": {},
   "outputs": [
    {
     "name": "stdout",
     "output_type": "stream",
     "text": [
      "parent\n",
      "hellow world child\n"
     ]
    }
   ],
   "source": [
    "#polymorphism\n",
    "#overriding\n",
    "class A():\n",
    "    def __init__(self):\n",
    "        print(\"parent\")\n",
    "    \n",
    "    def speaking(self):\n",
    "        print(\"hello i am parent\")\n",
    "        \n",
    "class B(A):\n",
    "    def __init(self):\n",
    "        self.word=None\n",
    "        print(\"child\")\n",
    "    \n",
    "    def speaking(self):\n",
    "        print(\"hellow world child\")\n",
    "\n",
    "x1 =B()\n",
    "x1.speaking()"
   ]
  },
  {
   "cell_type": "code",
   "execution_count": 40,
   "metadata": {},
   "outputs": [
    {
     "data": {
      "text/plain": [
       "str"
      ]
     },
     "execution_count": 40,
     "metadata": {},
     "output_type": "execute_result"
    }
   ],
   "source": [
    "type('abcsaa')"
   ]
  },
  {
   "cell_type": "markdown",
   "metadata": {},
   "source": [
    "# encupsulation\n"
   ]
  },
  {
   "cell_type": "code",
   "execution_count": 44,
   "metadata": {},
   "outputs": [
    {
     "data": {
      "text/plain": [
       "'Name is : Ali old 21'"
      ]
     },
     "execution_count": 44,
     "metadata": {},
     "output_type": "execute_result"
    }
   ],
   "source": [
    "class A():\n",
    "    def __init__(self,name,age):\n",
    "        self.__name=name\n",
    "        self.__age=age\n",
    "        \n",
    "    def display(self):\n",
    "        return \"Name is : {} old {}\".format(self.__name,self.__age)\n",
    "    \n",
    "    def setvalues(self,name,age):\n",
    "        self.__name =name\n",
    "        self.__age =age\n",
    "    \n",
    "    def hello(self):\n",
    "        return \"hahahhahahha\"\n",
    "##show  \n",
    "p1=A(\"Ali\",21)\n",
    "p1.display() \n",
    "##update\n"
   ]
  },
  {
   "cell_type": "code",
   "execution_count": 51,
   "metadata": {},
   "outputs": [
    {
     "ename": "TypeError",
     "evalue": "Admin() takes no arguments",
     "output_type": "error",
     "traceback": [
      "\u001b[1;31m---------------------------------------------------------------------------\u001b[0m",
      "\u001b[1;31mTypeError\u001b[0m                                 Traceback (most recent call last)",
      "\u001b[1;32m<ipython-input-51-c95140a10e93>\u001b[0m in \u001b[0;36m<module>\u001b[1;34m\u001b[0m\n\u001b[0;32m     10\u001b[0m     \u001b[1;32mdef\u001b[0m \u001b[0mforgotpassword\u001b[0m\u001b[1;33m(\u001b[0m\u001b[0mself\u001b[0m\u001b[1;33m,\u001b[0m\u001b[0mpassword\u001b[0m\u001b[1;33m)\u001b[0m\u001b[1;33m:\u001b[0m\u001b[1;33m\u001b[0m\u001b[1;33m\u001b[0m\u001b[0m\n\u001b[0;32m     11\u001b[0m         \u001b[0mself\u001b[0m\u001b[1;33m.\u001b[0m\u001b[0m__password\u001b[0m\u001b[1;33m=\u001b[0m\u001b[0mpassword\u001b[0m\u001b[1;33m\u001b[0m\u001b[1;33m\u001b[0m\u001b[0m\n\u001b[1;32m---> 12\u001b[1;33m \u001b[0mob1\u001b[0m\u001b[1;33m=\u001b[0m\u001b[0mAdmin\u001b[0m\u001b[1;33m(\u001b[0m\u001b[1;36m12\u001b[0m\u001b[1;33m,\u001b[0m\u001b[1;34m\"optp\"\u001b[0m\u001b[1;33m)\u001b[0m\u001b[1;33m\u001b[0m\u001b[1;33m\u001b[0m\u001b[0m\n\u001b[0m\u001b[0;32m     13\u001b[0m \u001b[0mob1\u001b[0m\u001b[1;33m.\u001b[0m\u001b[0mlogin\u001b[0m\u001b[1;33m(\u001b[0m\u001b[1;33m)\u001b[0m\u001b[1;33m\u001b[0m\u001b[1;33m\u001b[0m\u001b[0m\n",
      "\u001b[1;31mTypeError\u001b[0m: Admin() takes no arguments"
     ]
    }
   ],
   "source": [
    "class Admin():\n",
    "    def __init(self,userid,username,password):\n",
    "        self.__userid=userid\n",
    "        self.username=username\n",
    "        self.__password=password\n",
    "    \n",
    "    def login(self):\n",
    "        return \"UserID is: {} Password : {}\".format(self.__userid,self.__password)\n",
    "        \n",
    "    def forgotpassword(self,password):\n",
    "        self.__password=password\n",
    "ob1=Admin(12,\"optp\")\n",
    "ob1.login()"
   ]
  },
  {
   "cell_type": "code",
   "execution_count": 50,
   "metadata": {},
   "outputs": [
    {
     "ename": "TypeError",
     "evalue": "login() takes 1 positional argument but 2 were given",
     "output_type": "error",
     "traceback": [
      "\u001b[1;31m---------------------------------------------------------------------------\u001b[0m",
      "\u001b[1;31mTypeError\u001b[0m                                 Traceback (most recent call last)",
      "\u001b[1;32m<ipython-input-50-89bcd8ab305c>\u001b[0m in \u001b[0;36m<module>\u001b[1;34m\u001b[0m\n\u001b[1;32m----> 1\u001b[1;33m \u001b[0mob1\u001b[0m\u001b[1;33m=\u001b[0m\u001b[0mAdmin\u001b[0m\u001b[1;33m.\u001b[0m\u001b[0mlogin\u001b[0m\u001b[1;33m(\u001b[0m\u001b[1;36m12\u001b[0m\u001b[1;33m,\u001b[0m\u001b[1;34m\"optp\"\u001b[0m\u001b[1;33m)\u001b[0m\u001b[1;33m\u001b[0m\u001b[1;33m\u001b[0m\u001b[0m\n\u001b[0m\u001b[0;32m      2\u001b[0m \u001b[0mprint\u001b[0m\u001b[1;33m(\u001b[0m\u001b[0mob1\u001b[0m\u001b[1;33m)\u001b[0m\u001b[1;33m\u001b[0m\u001b[1;33m\u001b[0m\u001b[0m\n",
      "\u001b[1;31mTypeError\u001b[0m: login() takes 1 positional argument but 2 were given"
     ]
    }
   ],
   "source": []
  },
  {
   "cell_type": "markdown",
   "metadata": {},
   "source": [
    "# abstraction"
   ]
  },
  {
   "cell_type": "code",
   "execution_count": 61,
   "metadata": {},
   "outputs": [],
   "source": [
    "from abc import ABC,abstractmethod\n",
    "#python file called modul\n",
    "#libries\n",
    "class Human(ABC):#there is no need parathesis\n",
    "    #decorator\n",
    "    @abstractmethod\n",
    "    def __init__(self,name,fname):#method\n",
    "        self.name = name#attribute\n",
    "        self.fname = fname#attribute\n",
    "        #self.name = None\n",
    "        #self.fname = None\n",
    "    def making_noise(self,words=\"hahahahaha\"):\n",
    "        print(words)\n",
    "\n",
    "class Male(Human):\n",
    "    pass"
   ]
  },
  {
   "cell_type": "code",
   "execution_count": 62,
   "metadata": {},
   "outputs": [
    {
     "ename": "TypeError",
     "evalue": "Can't instantiate abstract class Human with abstract methods __init__",
     "output_type": "error",
     "traceback": [
      "\u001b[1;31m---------------------------------------------------------------------------\u001b[0m",
      "\u001b[1;31mTypeError\u001b[0m                                 Traceback (most recent call last)",
      "\u001b[1;32m<ipython-input-62-e34b11ec890a>\u001b[0m in \u001b[0;36m<module>\u001b[1;34m\u001b[0m\n\u001b[1;32m----> 1\u001b[1;33m \u001b[0ma\u001b[0m \u001b[1;33m=\u001b[0m \u001b[0mHuman\u001b[0m\u001b[1;33m(\u001b[0m\u001b[1;34m'a'\u001b[0m\u001b[1;33m,\u001b[0m\u001b[1;34m'b'\u001b[0m\u001b[1;33m)\u001b[0m\u001b[1;33m\u001b[0m\u001b[1;33m\u001b[0m\u001b[0m\n\u001b[0m\u001b[0;32m      2\u001b[0m \u001b[0mb\u001b[0m \u001b[1;33m=\u001b[0m \u001b[0mMale\u001b[0m\u001b[1;33m(\u001b[0m\u001b[1;34m\"a\"\u001b[0m\u001b[1;33m,\u001b[0m\u001b[1;34m\"b\"\u001b[0m\u001b[1;33m)\u001b[0m\u001b[1;33m\u001b[0m\u001b[1;33m\u001b[0m\u001b[0m\n",
      "\u001b[1;31mTypeError\u001b[0m: Can't instantiate abstract class Human with abstract methods __init__"
     ]
    }
   ],
   "source": [
    "a = Human('a','b')\n",
    "b = Male(\"a\",\"b\")"
   ]
  },
  {
   "cell_type": "code",
   "execution_count": 55,
   "metadata": {},
   "outputs": [
    {
     "name": "stdout",
     "output_type": "stream",
     "text": [
      "a b\n",
      "a b\n"
     ]
    }
   ],
   "source": [
    "print(a.name,a.fname)\n",
    "print(b.name,b.fname)"
   ]
  },
  {
   "cell_type": "code",
   "execution_count": 64,
   "metadata": {},
   "outputs": [],
   "source": [
    "#task \n",
    "\n",
    "class Animal():\n",
    "    def __init__(self,name,species):#method\n",
    "        self.name = None#attribute\n",
    "        self.species=None       \n",
    "    def walking(self,run=\"speed\"):\n",
    "        print(run)\n",
    "class Human():\n",
    "     \n",
    "    def __init__(self,name,fname):#method\n",
    "        self.name = None#attribute\n",
    "        self.fname=None       \n",
    "    def eating(self,bread=\"roti\"):\n",
    "           print(bread)"
   ]
  },
  {
   "cell_type": "code",
   "execution_count": 65,
   "metadata": {},
   "outputs": [],
   "source": [
    "class female(Animal,Human):\n",
    "    pass"
   ]
  },
  {
   "cell_type": "code",
   "execution_count": 70,
   "metadata": {},
   "outputs": [],
   "source": [
    "a = Human('a','b')\n",
    "b = Animal('c','d')"
   ]
  },
  {
   "cell_type": "code",
   "execution_count": 72,
   "metadata": {},
   "outputs": [
    {
     "name": "stdout",
     "output_type": "stream",
     "text": [
      "None None\n",
      "None None\n"
     ]
    }
   ],
   "source": [
    "print(a.name,a.fname)\n",
    "print(b.name,b.species)"
   ]
  },
  {
   "cell_type": "code",
   "execution_count": 73,
   "metadata": {},
   "outputs": [
    {
     "ename": "SyntaxError",
     "evalue": "invalid syntax (<ipython-input-73-49c8f581ddbc>, line 2)",
     "output_type": "error",
     "traceback": [
      "\u001b[1;36m  File \u001b[1;32m\"<ipython-input-73-49c8f581ddbc>\"\u001b[1;36m, line \u001b[1;32m2\u001b[0m\n\u001b[1;33m    def __init__(self,name,color,breed)\u001b[0m\n\u001b[1;37m                                       ^\u001b[0m\n\u001b[1;31mSyntaxError\u001b[0m\u001b[1;31m:\u001b[0m invalid syntax\n"
     ]
    }
   ],
   "source": [
    "class cat():\n",
    "    def __init__(self,name,color,breed)\n",
    "    self.name=name\n",
    "    self.color=color\n",
    "    self.__breed=breed\n",
    "    \n",
    "    def display(self):\n",
    "        return \"Breed is {}\".format(self.__breed)"
   ]
  },
  {
   "cell_type": "code",
   "execution_count": null,
   "metadata": {},
   "outputs": [],
   "source": []
  },
  {
   "cell_type": "code",
   "execution_count": null,
   "metadata": {},
   "outputs": [],
   "source": [
    "def __init__(self,fname,qualifcation.job):"
   ]
  },
  {
   "cell_type": "code",
   "execution_count": null,
   "metadata": {},
   "outputs": [],
   "source": [
    "def \n"
   ]
  }
 ],
 "metadata": {
  "kernelspec": {
   "display_name": "Python 3",
   "language": "python",
   "name": "python3"
  },
  "language_info": {
   "codemirror_mode": {
    "name": "ipython",
    "version": 3
   },
   "file_extension": ".py",
   "mimetype": "text/x-python",
   "name": "python",
   "nbconvert_exporter": "python",
   "pygments_lexer": "ipython3",
   "version": "3.7.3"
  }
 },
 "nbformat": 4,
 "nbformat_minor": 2
}
