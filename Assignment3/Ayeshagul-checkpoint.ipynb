{
 "cells": [
  {
   "cell_type": "markdown",
   "metadata": {},
   "source": [
    "# Q1:"
   ]
  },
  {
   "cell_type": "raw",
   "metadata": {},
   "source": [
    "Store a message in a variable, and then print that\n",
    "message."
   ]
  },
  {
   "cell_type": "code",
   "execution_count": 1,
   "metadata": {},
   "outputs": [
    {
     "name": "stdout",
     "output_type": "stream",
     "text": [
      "hello PIAIC\n"
     ]
    }
   ],
   "source": [
    "message = \"hello PIAIC\"\n",
    "print(message)"
   ]
  },
  {
   "cell_type": "markdown",
   "metadata": {},
   "source": [
    "# Q2:"
   ]
  },
  {
   "cell_type": "raw",
   "metadata": {},
   "source": [
    "Store a message in a variable, and print that message.\n",
    "Then change the value of your variable to a new message, and print the new\n",
    "message."
   ]
  },
  {
   "cell_type": "code",
   "execution_count": 3,
   "metadata": {},
   "outputs": [
    {
     "name": "stdout",
     "output_type": "stream",
     "text": [
      "I a student of PIAIC\n",
      "PIAIC departement of Artifical Intelligence, Cloud computing and Block chain\n"
     ]
    }
   ],
   "source": [
    "v1 = \"I a student of PIAIC\"\n",
    "print(v1)\n",
    "v1 = \"PIAIC departement of Artifical Intelligence, Cloud computing and Block chain\"\n",
    "print(v1)"
   ]
  },
  {
   "cell_type": "markdown",
   "metadata": {},
   "source": [
    "# Q3:"
   ]
  },
  {
   "cell_type": "raw",
   "metadata": {},
   "source": [
    "Store a person’s name in a variable, and print a message to that person. Your message should be simple, such as, “Hello Shahzad,\n",
    "would you like to learn some Python today?”"
   ]
  },
  {
   "cell_type": "code",
   "execution_count": 5,
   "metadata": {},
   "outputs": [
    {
     "name": "stdout",
     "output_type": "stream",
     "text": [
      "hellow Ayesha  would you like to learn some python today?\n"
     ]
    }
   ],
   "source": [
    "person_name = \"Ayesha\"\n",
    "print(\"hellow\",person_name+ \"  would you like to learn some python today?\")"
   ]
  },
  {
   "cell_type": "markdown",
   "metadata": {},
   "source": [
    "# Q4:"
   ]
  },
  {
   "cell_type": "raw",
   "metadata": {},
   "source": [
    "Store a person’s name in a variable, and then print that person’s name in lowercase, uppercase, and titlecase."
   ]
  },
  {
   "cell_type": "code",
   "execution_count": 6,
   "metadata": {},
   "outputs": [
    {
     "name": "stdout",
     "output_type": "stream",
     "text": [
      "ayesha gul\n",
      "AYESHA GUL\n",
      "Ayesha Gul\n"
     ]
    }
   ],
   "source": [
    "person_name = \"Ayesha Gul\"\n",
    "print(person_name.lower())\n",
    "print(person_name.upper())\n",
    "print(person_name.title())"
   ]
  },
  {
   "cell_type": "markdown",
   "metadata": {},
   "source": [
    "# Q5:"
   ]
  },
  {
   "cell_type": "raw",
   "metadata": {},
   "source": [
    "Find a quote from a famous person you admire. Print the\n",
    "quote and the name of its author. Your output should look something like the\n",
    "following, including the quotation marks:\n",
    "    \n",
    "    \n",
    "Albert Einstein once said, “A person who never made a\n",
    "mistake never tried anything new.”"
   ]
  },
  {
   "cell_type": "code",
   "execution_count": 7,
   "metadata": {},
   "outputs": [
    {
     "name": "stdout",
     "output_type": "stream",
     "text": [
      "Quaid e Azam Muhamamd Ali Jinnah once said,“Think a hundred times before you take a decision, but once that decision is taken, stand by it as one man”\n"
     ]
    }
   ],
   "source": [
    "print( \"Quaid e Azam Muhamamd Ali Jinnah once said,“Think a hundred times before you take a decision, but once that decision is taken, stand by it as one man”\")"
   ]
  },
  {
   "cell_type": "markdown",
   "metadata": {},
   "source": [
    "# Q6:"
   ]
  },
  {
   "cell_type": "raw",
   "metadata": {},
   "source": [
    "Write addition, subtraction, multiplication, and division\n",
    "operations that each result in the number 8. Be sure to enclose your operations\n",
    "in print statements to see the results. You should create four lines that look\n",
    "like this:\n",
    "    \n",
    "    \n",
    "print(5 + 3)"
   ]
  },
  {
   "cell_type": "code",
   "execution_count": 10,
   "metadata": {},
   "outputs": [
    {
     "name": "stdout",
     "output_type": "stream",
     "text": [
      "8\n",
      "8\n",
      "8\n",
      "8.0\n"
     ]
    }
   ],
   "source": [
    "print(5 + 3)\n",
    "print(10 - 2)\n",
    "print(4 * 2)\n",
    "print(16 / 2)"
   ]
  },
  {
   "cell_type": "markdown",
   "metadata": {},
   "source": [
    "# Q7:"
   ]
  },
  {
   "cell_type": "raw",
   "metadata": {},
   "source": [
    "Create a variable called number1 with the value of 8.\n",
    "Write a print statement to print number1 multiplied by 9."
   ]
  },
  {
   "cell_type": "code",
   "execution_count": 13,
   "metadata": {},
   "outputs": [
    {
     "name": "stdout",
     "output_type": "stream",
     "text": [
      "8 multiplied by 9 is : 72\n"
     ]
    }
   ],
   "source": [
    "number1 = 8\n",
    "result = 8 * 9\n",
    "print(f'{number1} multiplied by 9 is : {result}')"
   ]
  },
  {
   "cell_type": "markdown",
   "metadata": {},
   "source": [
    "# Q8:"
   ]
  },
  {
   "cell_type": "raw",
   "metadata": {},
   "source": [
    "Store your favorite number in a variable. Then, using\n",
    "that variable, create a message that reveals your favorite number. Print that\n",
    "message."
   ]
  },
  {
   "cell_type": "code",
   "execution_count": 14,
   "metadata": {},
   "outputs": [
    {
     "name": "stdout",
     "output_type": "stream",
     "text": [
      " My favorite number is 5\n"
     ]
    }
   ],
   "source": [
    "number = 5\n",
    "print(\" My favorite number is\",number)"
   ]
  },
  {
   "cell_type": "markdown",
   "metadata": {},
   "source": [
    "# Q9:"
   ]
  },
  {
   "cell_type": "raw",
   "metadata": {},
   "source": [
    "Store your name and your age in a varibale called my_name and my_age.\n",
    "Use format method to print your name and your age.\n",
    "Your final output sholud be like this:\n",
    "\n",
    "OUTPUT:    \n",
    "My name is Shahzad Ahsan and my age is 21.\n",
    "\n",
    "NOTE:Use both of the format methods which were discuss in the class."
   ]
  },
  {
   "cell_type": "code",
   "execution_count": null,
   "metadata": {},
   "outputs": [],
   "source": []
  },
  {
   "cell_type": "code",
   "execution_count": 17,
   "metadata": {},
   "outputs": [],
   "source": [
    "my_name = \"Ayesha\"\n",
    "my_age = 19\n",
    "result = \"My name is \" +my_name+ \" and my age is \" +str(my_age)+\".\""
   ]
  },
  {
   "cell_type": "code",
   "execution_count": 18,
   "metadata": {},
   "outputs": [
    {
     "name": "stdout",
     "output_type": "stream",
     "text": [
      "My name is Ayesha and my age is 19.\n"
     ]
    }
   ],
   "source": [
    "print(result)"
   ]
  },
  {
   "cell_type": "markdown",
   "metadata": {},
   "source": [
    "# Q10:"
   ]
  },
  {
   "cell_type": "raw",
   "metadata": {},
   "source": [
    "Write a Python program to check if a number is positive, negative or zero."
   ]
  },
  {
   "cell_type": "code",
   "execution_count": 19,
   "metadata": {},
   "outputs": [
    {
     "name": "stdout",
     "output_type": "stream",
     "text": [
      "Enter number for check wherether number positive or negative? -5\n",
      "Number is negative\n"
     ]
    }
   ],
   "source": [
    "number = int(input(\"Enter number for check wherether number positive or negative? \"))\n",
    "if number > 0:\n",
    "    print(\"Number is positive\")\n",
    "elif number < 0:\n",
    "    print(\"Number is negative\")\n",
    "else:\n",
    "    print(\"Number is zero\")\n",
    "    "
   ]
  },
  {
   "cell_type": "markdown",
   "metadata": {},
   "source": [
    "# Q11:"
   ]
  },
  {
   "cell_type": "raw",
   "metadata": {},
   "source": [
    "Write a Python program which accepts the radius of a circle from the user and compute the\n",
    "area."
   ]
  },
  {
   "cell_type": "code",
   "execution_count": 20,
   "metadata": {},
   "outputs": [
    {
     "name": "stdout",
     "output_type": "stream",
     "text": [
      "Enter the Area to find the Radius :  455\n",
      "Area of the radius is:  650388.22\n"
     ]
    }
   ],
   "source": [
    "import math\n",
    "radius = float(input(\"Enter the Area to find the Radius :  \"))\n",
    "Area = math.pi * (radius**2)\n",
    "Area = round(Area,2)\n",
    "print(\"Area of the radius is: \",Area)"
   ]
  },
  {
   "cell_type": "markdown",
   "metadata": {},
   "source": [
    "# Q12:"
   ]
  },
  {
   "cell_type": "raw",
   "metadata": {},
   "source": [
    "Write a Python function to check whether a number is completely divisible by another\n",
    "number. Accept two integer values form the user"
   ]
  },
  {
   "cell_type": "code",
   "execution_count": 25,
   "metadata": {},
   "outputs": [
    {
     "name": "stdout",
     "output_type": "stream",
     "text": [
      "Enter first number: 5\n",
      "Enter second number: 9\n",
      "first is not divisible by 5 9\n"
     ]
    }
   ],
   "source": [
    "number1 = int(input(\"Enter first number: \"))\n",
    "number2 = int(input(\"Enter second number: \"))\n",
    "if number1 % number2 == 0:\n",
    "    print(\"numbers is divisible by\",number1, number2)\n",
    "else:\n",
    "    print(\"numbers is not divisible by\",number1, number2)\n",
    "   # print(f'{num1} is not divisible by {num2}')\n"
   ]
  },
  {
   "cell_type": "code",
   "execution_count": null,
   "metadata": {},
   "outputs": [],
   "source": []
  },
  {
   "cell_type": "markdown",
   "metadata": {},
   "source": [
    "# Q13:"
   ]
  },
  {
   "cell_type": "raw",
   "metadata": {},
   "source": [
    "Write a Python program to find whether a given number (accept from the user) is even or\n",
    "odd, print out an appropriate message to the user."
   ]
  },
  {
   "cell_type": "code",
   "execution_count": 28,
   "metadata": {},
   "outputs": [
    {
     "name": "stdout",
     "output_type": "stream",
     "text": [
      "Enter any number to find even or odd number 4\n",
      "Number is Even:  4\n"
     ]
    }
   ],
   "source": [
    "number = int(input(\"Enter any number to find even or odd number \"))\n",
    "if number % 2 == 0:\n",
    "    print(\"Number is Even: \",number)\n",
    "else:\n",
    "    print(\"Number is Odd: \",number)"
   ]
  },
  {
   "cell_type": "markdown",
   "metadata": {},
   "source": [
    "# Q14:"
   ]
  },
  {
   "cell_type": "raw",
   "metadata": {},
   "source": [
    " Print a suitable statement that uses their response. Such as, if they entered “Bangkok”: “I’d love to visit Bangkook more often”."
   ]
  },
  {
   "cell_type": "code",
   "execution_count": 30,
   "metadata": {},
   "outputs": [
    {
     "name": "stdout",
     "output_type": "stream",
     "text": [
      "Enter your city name: Toyoko\n",
      "i am Not interest to visit:  Toyoko\n"
     ]
    }
   ],
   "source": [
    "city = input(\"Enter your city name: \")\n",
    "if city == \"Bangkok\" or city == \"bangkok\":\n",
    "    print(\"I'd love to visit \" +city+ \" more often.\")\n",
    "else:\n",
    "    print(\"i am Not interest to visit: \",city)"
   ]
  },
  {
   "cell_type": "markdown",
   "metadata": {},
   "source": [
    "# Q15:"
   ]
  },
  {
   "cell_type": "raw",
   "metadata": {},
   "source": [
    "Write an input line to ask a user whether they want to take the red pill or the blue pill.\n",
    "\n",
    " If they write “red” then print “You stay in wonderland and see how far the rabbit hole goes”.\n",
    " \n",
    " Elif they write “blue” then print “You wake up in your bed and believe what you want to believe.”.\n",
    " \n",
    " Else print “That’s not an option Neo.”"
   ]
  },
  {
   "cell_type": "code",
   "execution_count": 28,
   "metadata": {},
   "outputs": [
    {
     "name": "stdout",
     "output_type": "stream",
     "text": [
      "Do you want to take the red pill or the blue pill: blue\n",
      "You wake up in your bed and believe what you want to believe.\n"
     ]
    }
   ],
   "source": [
    "pill = input(\"Do you want to take the red pill or the blue pill: \")\n",
    "if pill == \"red pill\" or pill == \"Red pill\" or pill == \"red\" or pill == \"Red\":\n",
    "    print(\"You stay in wonderland and see how far the rabbit hole goes\")\n",
    "elif pill == \"blue pill\" or pill == \"Blue pill\" or pill == \"blue\" or pill == \"Blue\":\n",
    "    print (\"You wake up in your bed and believe what you want to believe.\")\n",
    "else:\n",
    "    print (\"That’s not an option Neo.\")"
   ]
  },
  {
   "cell_type": "markdown",
   "metadata": {},
   "source": [
    "# MARKSHEET"
   ]
  },
  {
   "cell_type": "code",
   "execution_count": 13,
   "metadata": {},
   "outputs": [
    {
     "name": "stdout",
     "output_type": "stream",
     "text": [
      "Enter your English marks: 50\n",
      "Enter your Urdu marks: 60\n",
      "Enter your Math marks: 70\n",
      "--------------------------------------------------------------------------------\n",
      "Subject                  Max                  Min                  Obtain Marks\n",
      "English\t\t\t 100\t\t\t60\t\t\t50.0\n",
      "Urdu\t\t\t 100\t\t\t60\t\t\t60.0\n",
      "Math\t\t\t 100\t\t\t60\t\t\t70.0\n",
      "--------------------------------------------------------------------------------\n",
      "Your total marks are 180.0 out of 500\n",
      "Your total marks are 180.0\n",
      "Your percentage is 60.0\n",
      "Your grade marks is B\n"
     ]
    }
   ],
   "source": [
    "English = float(input('Enter your English marks: '))\n",
    "Urdu =    float(input('Enter your Urdu marks: '))\n",
    "Math =    float(input('Enter your Math marks: '))\n",
    "total = English + Urdu + Math\n",
    "per = total/300*100\n",
    "roundOff = round(per,2)\n",
    "grade = ''\n",
    "if per >= 90:\n",
    "    grade = 'A+'\n",
    "elif per >= 80:\n",
    "    grade = 'A'\n",
    "elif total >= 70:\n",
    "    grade = 'B'\n",
    "elif per >= 60:\n",
    "    grade = 'C'\n",
    "elif per >= 50:\n",
    "    grade = 'D'\n",
    "elif per >= 40:\n",
    "    grade = 'E'\n",
    "else:\n",
    "    grade = 'Fail'\n",
    "print('--------------------------------------------------------------------------------')\n",
    "print('Subject','Max','Min','Obtain Marks',sep = \"                  \")\n",
    "print(f'English\\t\\t\\t 100\\t\\t\\t60\\t\\t\\t{English}')\n",
    "print(f'Urdu\\t\\t\\t 100\\t\\t60\\t\\t\\t{Urdu}')\n",
    "print(f'Math\\t\\t\\t 100\\t\\t60\\t\\t\\t{Math}')\n",
    "print('--------------------------------------------------------------------------------')\n",
    "print(\"Your total marks are \"+str(total)+\" out of 500\")\n",
    "print(f'Your total marks are {total}')\n",
    "print(f'Your percentage is {per}')\n",
    "print(f'Your grade marks is {grade}')"
   ]
  },
  {
   "cell_type": "markdown",
   "metadata": {},
   "source": [
    "# ASSIGNMENT 2"
   ]
  },
  {
   "cell_type": "markdown",
   "metadata": {},
   "source": [
    "# To Do List Program"
   ]
  },
  {
   "cell_type": "code",
   "execution_count": 32,
   "metadata": {},
   "outputs": [
    {
     "name": "stdout",
     "output_type": "stream",
     "text": [
      "Daily routin task list : {task}\n",
      "Enter your task for daily routine:sleep\n",
      "This task list is not my daily task\n"
     ]
    }
   ],
   "source": [
    "task = ['Wake','Awake','Eat','Home work','Offering namaz']\n",
    "complete_task = [] \n",
    "print('Daily routin task list : {task}')\n",
    "perform = input(\"Enter your task for daily routine:\" )\n",
    "if perform in task_list:\n",
    "    a = task.index(perform)\n",
    "    b = task.pop(a)\n",
    "    complete_task.append(b)\n",
    "    print('Daily routin task list : {task}')\n",
    "    print('This daily routin task is successfuly perform {complete_task}')\n",
    "else:\n",
    "    print(\"This task list is not my daily task\")\n",
    "\n"
   ]
  },
  {
   "cell_type": "code",
   "execution_count": null,
   "metadata": {},
   "outputs": [],
   "source": []
  }
 ],
 "metadata": {
  "kernelspec": {
   "display_name": "Python 3",
   "language": "python",
   "name": "python3"
  },
  "language_info": {
   "codemirror_mode": {
    "name": "ipython",
    "version": 3
   },
   "file_extension": ".py",
   "mimetype": "text/x-python",
   "name": "python",
   "nbconvert_exporter": "python",
   "pygments_lexer": "ipython3",
   "version": "3.7.3"
  }
 },
 "nbformat": 4,
 "nbformat_minor": 2
}
