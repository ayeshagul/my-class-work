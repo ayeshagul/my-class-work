{
 "cells": [
  {
   "cell_type": "code",
   "execution_count": 1,
   "metadata": {},
   "outputs": [
    {
     "name": "stdout",
     "output_type": "stream",
     "text": [
      "enter the temperature today67\n",
      "its hot weather today\n"
     ]
    }
   ],
   "source": [
    "temp = int(input(\"enter the temperature today\"))\n",
    "if temp>30:\n",
    "    print(\"its hot weather today\")\n",
    "else:\n",
    "    print(\" its normal weather today\")"
   ]
  },
  {
   "cell_type": "markdown",
   "metadata": {},
   "source": [
    "# nested if's"
   ]
  },
  {
   "cell_type": "code",
   "execution_count": null,
   "metadata": {},
   "outputs": [],
   "source": [
    "if a==b:  agr value true me aaye to exicute hoga\n",
    "    if a>b: agr value false me aye tou baki ki value exicute nhi houn gi\n",
    "        if a<b:\n",
    "            if a!=b:"
   ]
  },
  {
   "cell_type": "code",
   "execution_count": 9,
   "metadata": {
    "scrolled": true
   },
   "outputs": [
    {
     "name": "stdout",
     "output_type": "stream",
     "text": [
      "do you have cnicyes\n",
      "ander chaly jayen\n",
      "is my name in list?no\n",
      "you can not caste vote\n"
     ]
    }
   ],
   "source": [
    "cnic = input(\"do you have cnic\")\n",
    "if cnic == 'yes':\n",
    "    print(\"ander chaly jayen\")\n",
    "    nameinlist = input (\"is my name in list?\")\n",
    "    if nameinlist=='yes':\n",
    "        print(\"please caste your vote\")\n",
    "    else:\n",
    "        print(\"you can not caste vote\")\n",
    "else:\n",
    "    print(\"you cant caste vote\")"
   ]
  },
  {
   "cell_type": "code",
   "execution_count": null,
   "metadata": {},
   "outputs": [],
   "source": [
    "education@piaic.org "
   ]
  },
  {
   "cell_type": "markdown",
   "metadata": {},
   "source": [
    "# if elif else (opposite nested if's)"
   ]
  },
  {
   "cell_type": "code",
   "execution_count": 1,
   "metadata": {},
   "outputs": [
    {
     "name": "stdout",
     "output_type": "stream",
     "text": [
      "Enter your marks:65\n",
      "your marks are 65 and your grade is C\n"
     ]
    }
   ],
   "source": [
    "marks = int(input(\"Enter your marks:\"))\n",
    "grade = \" \"\n",
    "if marks>=90:\n",
    "    grade = \"A\"\n",
    "elif marks>=80:\n",
    "    grade = \"A\"\n",
    "elif marks>=70:\n",
    "    grade=\"B\"\n",
    "elif marks>=60:\n",
    "    grade = \"C\"\n",
    "elif marks>=50:\n",
    "    grade = \"D\"\n",
    "else:\n",
    "    print(\"you failed\")\n",
    "print(f'your marks are {marks} and your grade is {grade}')"
   ]
  },
  {
   "cell_type": "code",
   "execution_count": null,
   "metadata": {},
   "outputs": [],
   "source": []
  },
  {
   "cell_type": "code",
   "execution_count": null,
   "metadata": {},
   "outputs": [],
   "source": []
  }
 ],
 "metadata": {
  "kernelspec": {
   "display_name": "Python 3",
   "language": "python",
   "name": "python3"
  },
  "language_info": {
   "codemirror_mode": {
    "name": "ipython",
    "version": 3
   },
   "file_extension": ".py",
   "mimetype": "text/x-python",
   "name": "python",
   "nbconvert_exporter": "python",
   "pygments_lexer": "ipython3",
   "version": "3.7.3"
  }
 },
 "nbformat": 4,
 "nbformat_minor": 2
}
