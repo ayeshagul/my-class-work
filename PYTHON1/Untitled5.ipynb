{
 "cells": [
  {
   "cell_type": "code",
   "execution_count": null,
   "metadata": {},
   "outputs": [],
   "source": [
    "table of 2"
   ]
  },
  {
   "cell_type": "code",
   "execution_count": 12,
   "metadata": {},
   "outputs": [
    {
     "name": "stdout",
     "output_type": "stream",
     "text": [
      "2 x 1 = 2\n",
      "2 x 2 = 4\n",
      "2 x 3 = 6\n",
      "2 x 4 = 8\n",
      "2 x 5 = 10\n",
      "2 x 6 = 12\n",
      "2 x 7 = 14\n",
      "2 x 8 = 16\n",
      "2 x 9 = 18\n",
      "2 x 10 = 20\n"
     ]
    }
   ],
   "source": [
    "for a in range(1,11):\n",
    "    print(\"{} x {} = {}\".format(2,a,a*2))"
   ]
  },
  {
   "cell_type": "code",
   "execution_count": 13,
   "metadata": {},
   "outputs": [
    {
     "name": "stdout",
     "output_type": "stream",
     "text": [
      "3 x 1 = 3\n",
      "3 x 2 = 6\n",
      "3 x 3 = 9\n",
      "3 x 4 = 12\n",
      "3 x 5 = 15\n",
      "3 x 6 = 18\n",
      "3 x 7 = 21\n",
      "3 x 8 = 24\n",
      "3 x 9 = 27\n",
      "3 x 10 = 30\n"
     ]
    }
   ],
   "source": [
    "for b in range(1,11):\n",
    "    print(\"{} x {} = {}\".format(3,b,b*3))"
   ]
  },
  {
   "cell_type": "code",
   "execution_count": 14,
   "metadata": {},
   "outputs": [
    {
     "name": "stdout",
     "output_type": "stream",
     "text": [
      "4 x 1 = 4\n",
      "4 x 2 = 8\n",
      "4 x 3 = 12\n",
      "4 x 4 = 16\n",
      "4 x 5 = 20\n",
      "4 x 6 = 24\n",
      "4 x 7 = 28\n",
      "4 x 8 = 32\n",
      "4 x 9 = 36\n",
      "4 x 10 = 40\n"
     ]
    }
   ],
   "source": [
    "for c in range(1,11):\n",
    "    print(\"{} x {} = {}\".format(4,c,c*4))"
   ]
  },
  {
   "cell_type": "code",
   "execution_count": 19,
   "metadata": {},
   "outputs": [
    {
     "name": "stdout",
     "output_type": "stream",
     "text": [
      "5 x 1 = 5\n",
      "5 x 2 = 10\n",
      "5 x 3 = 15\n",
      "5 x 4 = 20\n",
      "5 x 5 = 25\n",
      "5 x 6 = 30\n",
      "5 x 7 = 35\n",
      "5 x 8 = 40\n",
      "5 x 9 = 45\n",
      "5 x 10 = 50\n"
     ]
    }
   ],
   "source": [
    "for d in range(1,11):\n",
    "     print(\"{} x {} = {}\".format(5,d,d*5))\n"
   ]
  },
  {
   "cell_type": "code",
   "execution_count": 22,
   "metadata": {},
   "outputs": [
    {
     "name": "stdout",
     "output_type": "stream",
     "text": [
      "6 x 1 = 6\n",
      "6 x 2 = 12\n",
      "6 x 3 = 18\n",
      "6 x 4 = 24\n",
      "6 x 5 = 30\n",
      "6 x 6 = 36\n",
      "6 x 7 = 42\n",
      "6 x 8 = 48\n",
      "6 x 9 = 54\n",
      "6 x 10 = 60\n"
     ]
    }
   ],
   "source": [
    "for e in range(1,11):\n",
    "    print(\"{} x {} = {}\".format(6,e,e*6))\n"
   ]
  },
  {
   "cell_type": "code",
   "execution_count": 21,
   "metadata": {},
   "outputs": [
    {
     "name": "stdout",
     "output_type": "stream",
     "text": [
      "7 x 1 = 7\n",
      "7 x 2 = 14\n",
      "7 x 3 = 21\n",
      "7 x 4 = 28\n",
      "7 x 5 = 35\n",
      "7 x 6 = 42\n",
      "7 x 7 = 49\n",
      "7 x 8 = 56\n",
      "7 x 9 = 63\n",
      "7 x 10 = 70\n"
     ]
    }
   ],
   "source": [
    "for f in range(1,11):\n",
    "     print(\"{} x {} = {}\".format(7,f,f*7))\n"
   ]
  },
  {
   "cell_type": "code",
   "execution_count": 30,
   "metadata": {},
   "outputs": [
    {
     "name": "stdout",
     "output_type": "stream",
     "text": [
      "1 x 1 = 1\n",
      "1 x 2 = 2\n",
      "1 x 3 = 3\n",
      "1 x 4 = 4\n",
      "1 x 5 = 5\n",
      "1 x 6 = 6\n",
      "1 x 7 = 7\n",
      "1 x 8 = 8\n",
      "1 x 9 = 9\n",
      "1 x 10 = 10\n",
      "2 x 1 = 2\n",
      "2 x 2 = 4\n",
      "2 x 3 = 6\n",
      "2 x 4 = 8\n",
      "2 x 5 = 10\n",
      "2 x 6 = 12\n",
      "2 x 7 = 14\n",
      "2 x 8 = 16\n",
      "2 x 9 = 18\n",
      "2 x 10 = 20\n",
      "3 x 1 = 3\n",
      "3 x 2 = 6\n",
      "3 x 3 = 9\n",
      "3 x 4 = 12\n",
      "3 x 5 = 15\n",
      "3 x 6 = 18\n",
      "3 x 7 = 21\n",
      "3 x 8 = 24\n",
      "3 x 9 = 27\n",
      "3 x 10 = 30\n",
      "4 x 1 = 4\n",
      "4 x 2 = 8\n",
      "4 x 3 = 12\n",
      "4 x 4 = 16\n",
      "4 x 5 = 20\n",
      "4 x 6 = 24\n",
      "4 x 7 = 28\n",
      "4 x 8 = 32\n",
      "4 x 9 = 36\n",
      "4 x 10 = 40\n",
      "5 x 1 = 5\n",
      "5 x 2 = 10\n",
      "5 x 3 = 15\n",
      "5 x 4 = 20\n",
      "5 x 5 = 25\n",
      "5 x 6 = 30\n",
      "5 x 7 = 35\n",
      "5 x 8 = 40\n",
      "5 x 9 = 45\n",
      "5 x 10 = 50\n",
      "6 x 1 = 6\n",
      "6 x 2 = 12\n",
      "6 x 3 = 18\n",
      "6 x 4 = 24\n",
      "6 x 5 = 30\n",
      "6 x 6 = 36\n",
      "6 x 7 = 42\n",
      "6 x 8 = 48\n",
      "6 x 9 = 54\n",
      "6 x 10 = 60\n",
      "7 x 1 = 7\n",
      "7 x 2 = 14\n",
      "7 x 3 = 21\n",
      "7 x 4 = 28\n",
      "7 x 5 = 35\n",
      "7 x 6 = 42\n",
      "7 x 7 = 49\n",
      "7 x 8 = 56\n",
      "7 x 9 = 63\n",
      "7 x 10 = 70\n"
     ]
    }
   ],
   "source": [
    "for g in range(1,8):\n",
    "    for h in range(1,11):\n",
    "        print(\"{} x {} = {}\".format(g,h,h*g))\n"
   ]
  },
  {
   "cell_type": "code",
   "execution_count": 41,
   "metadata": {},
   "outputs": [
    {
     "name": "stdout",
     "output_type": "stream",
     "text": [
      "1\n",
      "3\n",
      "5\n",
      "7\n",
      "9\n",
      "11\n"
     ]
    }
   ],
   "source": [
    "my_num = [1,3,5,7,9,11]\n",
    "for i in my_num:\n",
    "        print(i)"
   ]
  },
  {
   "cell_type": "code",
   "execution_count": 40,
   "metadata": {},
   "outputs": [
    {
     "name": "stdout",
     "output_type": "stream",
     "text": [
      "1\n",
      "2\n",
      "3\n",
      "4\n",
      "5\n",
      "6\n",
      "7\n",
      "8\n",
      "9\n",
      "0\n"
     ]
    }
   ],
   "source": [
    "my_num = [ 1,2,3,4,5,6,7,8,9,0]\n",
    "for i in my_num:\n",
    "    print(i)"
   ]
  },
  {
   "cell_type": "code",
   "execution_count": 42,
   "metadata": {},
   "outputs": [
    {
     "name": "stdout",
     "output_type": "stream",
     "text": [
      "[4, 8, 10, 16, 20]\n"
     ]
    }
   ],
   "source": [
    "my_num = [2, 4, 5, 8, 10]\n",
    "my_new_list = []\n",
    "for i in my_num:\n",
    "    my_new_list.append(i*2)\n",
    "print(my_new_list)    "
   ]
  },
  {
   "cell_type": "code",
   "execution_count": 43,
   "metadata": {},
   "outputs": [
    {
     "name": "stdout",
     "output_type": "stream",
     "text": [
      "0\n",
      "1\n",
      "2\n",
      "3\n",
      "4\n"
     ]
    }
   ],
   "source": [
    "for i in range(5):\n",
    "    print(i)\n",
    "    if i ==5:\n",
    "        print(i*2)"
   ]
  },
  {
   "cell_type": "code",
   "execution_count": 44,
   "metadata": {},
   "outputs": [
    {
     "name": "stdout",
     "output_type": "stream",
     "text": [
      "0\n",
      "1\n",
      "2\n",
      "3\n",
      "4\n",
      "5\n",
      "6\n"
     ]
    }
   ],
   "source": [
    "for b in range(7):\n",
    "    print(b)\n",
    "    if b ==7:\n",
    "        print(b*7)"
   ]
  },
  {
   "cell_type": "code",
   "execution_count": 46,
   "metadata": {},
   "outputs": [
    {
     "name": "stdout",
     "output_type": "stream",
     "text": [
      "0\n",
      "1\n",
      "2\n",
      "3\n",
      "4\n",
      "5\n",
      "6\n"
     ]
    }
   ],
   "source": [
    "for b in range(7):\n",
    "    print(b)     "
   ]
  },
  {
   "cell_type": "code",
   "execution_count": null,
   "metadata": {},
   "outputs": [],
   "source": [
    "break\n",
    "continue\n",
    "pass"
   ]
  },
  {
   "cell_type": "code",
   "execution_count": 65,
   "metadata": {},
   "outputs": [
    {
     "name": "stdout",
     "output_type": "stream",
     "text": [
      "6\n"
     ]
    }
   ],
   "source": [
    "for g in range(6,7,8):\n",
    "       if g == 9:\n",
    "        break\n",
    "print(g)"
   ]
  },
  {
   "cell_type": "code",
   "execution_count": 64,
   "metadata": {},
   "outputs": [
    {
     "name": "stdout",
     "output_type": "stream",
     "text": [
      "0\n",
      "1\n",
      "3\n",
      "4\n",
      "5\n",
      "6\n",
      "7\n",
      "8\n",
      "9\n"
     ]
    }
   ],
   "source": [
    "for i in range(10):\n",
    "    if i == 2:\n",
    "         continue \n",
    "    print(i)"
   ]
  },
  {
   "cell_type": "code",
   "execution_count": 66,
   "metadata": {},
   "outputs": [],
   "source": [
    "for i in range(5):\n",
    "     pass"
   ]
  },
  {
   "cell_type": "code",
   "execution_count": 67,
   "metadata": {},
   "outputs": [
    {
     "name": "stdout",
     "output_type": "stream",
     "text": [
      "Enter a table num:23\n",
      "23 x 1 = 23\n",
      "23 x 2 = 46\n",
      "23 x 3 = 69\n",
      "23 x 4 = 92\n",
      "23 x 5 = 115\n",
      "23 x 6 = 138\n",
      "23 x 7 = 161\n",
      "23 x 8 = 184\n",
      "23 x 9 = 207\n",
      "23 x 10 = 230\n"
     ]
    }
   ],
   "source": [
    "table= int(input(\"Enter a table num:\")) \n",
    "for i in range(1 ,11):\n",
    "    print(f\"{table} x {i} = {table * i}\")\n",
    "    "
   ]
  },
  {
   "cell_type": "code",
   "execution_count": 75,
   "metadata": {},
   "outputs": [
    {
     "name": "stdout",
     "output_type": "stream",
     "text": [
      "Enter a table num:24\n",
      "24 x 1 = 24\n",
      "24 x 2 = 48\n",
      "24 x 3 = 72\n",
      "24 x 4 = 96\n",
      "24 x 5 = 120\n",
      "24 x 6 = 144\n",
      "24 x 7 = 168\n",
      "24 x 8 = 192\n",
      "24 x 9 = 216\n",
      "24 x 10 = 240\n"
     ]
    }
   ],
   "source": [
    "table= int(input(\"Enter a table num:\"))\n",
    "for i in range(1,11):\n",
    "     print(f\"{table} x {i} = {table * i }\")"
   ]
  },
  {
   "cell_type": "code",
   "execution_count": 82,
   "metadata": {},
   "outputs": [
    {
     "name": "stdout",
     "output_type": "stream",
     "text": [
      "A 0\n",
      "A 1\n",
      "A 2\n",
      "A 3\n",
      "A 4\n",
      "y 0\n",
      "y 1\n",
      "y 2\n",
      "y 3\n",
      "y 4\n",
      "e 0\n",
      "e 1\n",
      "e 2\n",
      "e 3\n",
      "e 4\n",
      "s 0\n",
      "s 1\n",
      "s 2\n",
      "s 3\n",
      "s 4\n",
      "h 0\n",
      "h 1\n",
      "h 2\n",
      "h 3\n",
      "h 4\n",
      "a 0\n",
      "a 1\n",
      "a 2\n",
      "a 3\n",
      "a 4\n",
      "  0\n",
      "  1\n",
      "  2\n",
      "  3\n",
      "  4\n",
      "z 0\n",
      "z 1\n",
      "z 2\n",
      "z 3\n",
      "z 4\n",
      "e 0\n",
      "e 1\n",
      "e 2\n",
      "e 3\n",
      "e 4\n",
      "b 0\n",
      "b 1\n",
      "b 2\n",
      "b 3\n",
      "b 4\n",
      "i 0\n",
      "i 1\n",
      "i 2\n",
      "i 3\n",
      "i 4\n"
     ]
    }
   ],
   "source": [
    "for i in \"Ayesha zebi\":\n",
    "    for j in range(5):\n",
    "        print(i,j)"
   ]
  },
  {
   "cell_type": "code",
   "execution_count": 83,
   "metadata": {},
   "outputs": [
    {
     "name": "stdout",
     "output_type": "stream",
     "text": [
      "2 x 1 = 2\n",
      "2 x 2 = 4\n",
      "2 x 3 = 6\n",
      "2 x 4 = 8\n",
      "2 x 5 = 10\n",
      "2 x 6 = 12\n",
      "2 x 7 = 14\n",
      "2 x 8 = 16\n",
      "2 x 9 = 18\n",
      "2 x 10 = 20\n"
     ]
    }
   ],
   "source": [
    "for a in range(1,11):\n",
    "    print(\"{} x {} = {}\".format(2,a,a*2))"
   ]
  },
  {
   "cell_type": "code",
   "execution_count": 100,
   "metadata": {
    "scrolled": true
   },
   "outputs": [
    {
     "name": "stdout",
     "output_type": "stream",
     "text": [
      "1 x 1 = 1\n",
      "1 x 2 = 2\n",
      "1 x 3 = 3\n",
      "1 x 4 = 4\n",
      "1 x 5 = 5\n",
      "1 x 6 = 6\n",
      "1 x 7 = 7\n",
      "1 x 8 = 8\n",
      "1 x 9 = 9\n",
      "1 x 10 = 10\n",
      "2 x 1 = 2\n",
      "2 x 2 = 4\n",
      "2 x 3 = 6\n",
      "2 x 4 = 8\n",
      "2 x 5 = 10\n",
      "2 x 6 = 12\n",
      "2 x 7 = 14\n",
      "2 x 8 = 16\n",
      "2 x 9 = 18\n",
      "2 x 10 = 20\n",
      "3 x 1 = 3\n",
      "3 x 2 = 6\n",
      "3 x 3 = 9\n",
      "3 x 4 = 12\n",
      "3 x 5 = 15\n",
      "3 x 6 = 18\n",
      "3 x 7 = 21\n",
      "3 x 8 = 24\n",
      "3 x 9 = 27\n",
      "3 x 10 = 30\n"
     ]
    }
   ],
   "source": [
    "for a in range(1,4):\n",
    "      for b  in range(1,11):\n",
    "            print(\"{} x {} = {}\".format(a,b,a*b))"
   ]
  },
  {
   "cell_type": "code",
   "execution_count": 130,
   "metadata": {},
   "outputs": [
    {
     "name": "stdout",
     "output_type": "stream",
     "text": [
      "Assignment-Column wise Table 2, 3 and\n",
      "2 x 1 = 2\t\t\t\t3 x 1 = 3\t\t\t\t4 x 1 = 4\t\t\t\t\n",
      "\n",
      "2 x 2 = 4\t\t\t\t3 x 2 = 6\t\t\t\t4 x 2 = 8\t\t\t\t\n",
      "\n",
      "2 x 3 = 6\t\t\t\t3 x 3 = 9\t\t\t\t4 x 3 = 12\t\t\t\t\n",
      "\n",
      "2 x 4 = 8\t\t\t\t3 x 4 = 12\t\t\t\t4 x 4 = 16\t\t\t\t\n",
      "\n",
      "2 x 5 = 10\t\t\t\t3 x 5 = 15\t\t\t\t4 x 5 = 20\t\t\t\t\n",
      "\n",
      "2 x 6 = 12\t\t\t\t3 x 6 = 18\t\t\t\t4 x 6 = 24\t\t\t\t\n",
      "\n",
      "2 x 7 = 14\t\t\t\t3 x 7 = 21\t\t\t\t4 x 7 = 28\t\t\t\t\n",
      "\n",
      "2 x 8 = 16\t\t\t\t3 x 8 = 24\t\t\t\t4 x 8 = 32\t\t\t\t\n",
      "\n",
      "2 x 9 = 18\t\t\t\t3 x 9 = 27\t\t\t\t4 x 9 = 36\t\t\t\t\n",
      "\n",
      "2 x 10 = 20\t\t\t\t3 x 10 = 30\t\t\t\t4 x 10 = 40\t\t\t\t\n",
      "\n"
     ]
    }
   ],
   "source": [
    "#table 2,3 and 4\n",
    "print(\"Assignment-Column wise Table 2, 3 and\")\n",
    "for y in range(1,11):\n",
    "    for x in range(2,5):\n",
    "        print(\"{} x {} = {}\".format(x,y,x*y),end=\"\\t\\t\\t\\t\")\n",
    "    print(\"\\n\")"
   ]
  },
  {
   "cell_type": "code",
   "execution_count": 1,
   "metadata": {},
   "outputs": [],
   "source": [
    "#print those number who divided by 7,50,500,1500:\n",
    "for i in range(1,10000):\n",
    "    if i%7==0 and i%50==0 and i%500==0 and i%1500==0:\n",
    "        print(i)"
   ]
  },
  {
   "cell_type": "code",
   "execution_count": 4,
   "metadata": {},
   "outputs": [
    {
     "name": "stdout",
     "output_type": "stream",
     "text": [
      "assignment-column wise table 3, 4 and\n",
      "2 x 1 = 2\t\t\t\t3 x 1 = 3\t\t\t\t4 x 1 = 4\t\t\t\t2 x 2 = 4\t\t\t\t3 x 2 = 6\t\t\t\t4 x 2 = 8\t\t\t\t2 x 3 = 6\t\t\t\t3 x 3 = 9\t\t\t\t4 x 3 = 12\t\t\t\t2 x 4 = 8\t\t\t\t3 x 4 = 12\t\t\t\t4 x 4 = 16\t\t\t\t2 x 5 = 10\t\t\t\t3 x 5 = 15\t\t\t\t4 x 5 = 20\t\t\t\t2 x 6 = 12\t\t\t\t3 x 6 = 18\t\t\t\t4 x 6 = 24\t\t\t\t2 x 7 = 14\t\t\t\t3 x 7 = 21\t\t\t\t4 x 7 = 28\t\t\t\t2 x 8 = 16\t\t\t\t3 x 8 = 24\t\t\t\t4 x 8 = 32\t\t\t\t2 x 9 = 18\t\t\t\t3 x 9 = 27\t\t\t\t4 x 9 = 36\t\t\t\t2 x 10 = 20\t\t\t\t3 x 10 = 30\t\t\t\t4 x 10 = 40\t\t\t\t\n",
      "\n"
     ]
    }
   ],
   "source": [
    "print(\"assignment-column wise table 3, 4 and\")\n",
    "for y in range(1,11):\n",
    "    for x in range(2,5):\n",
    "        print(\"{} x {} = {}\".format(x,y,x*y),end=\"\\t\\t\\t\\t\")\n",
    "print(\"\\n\")     "
   ]
  },
  {
   "cell_type": "code",
   "execution_count": 24,
   "metadata": {},
   "outputs": [
    {
     "name": "stdout",
     "output_type": "stream",
     "text": [
      "assignment-column wise table 4, 5 and\n",
      "2 x 1 = 2\t\t\t\t3 x 1 = 3\t\t\t\t4 x 1 = 4\t\t\t\t2 x 2 = 4\t\t\t\t3 x 2 = 6\t\t\t\t4 x 2 = 8\t\t\t\t2 x 3 = 6\t\t\t\t3 x 3 = 9\t\t\t\t4 x 3 = 12\t\t\t\t2 x 4 = 8\t\t\t\t3 x 4 = 12\t\t\t\t4 x 4 = 16\t\t\t\t2 x 5 = 10\t\t\t\t3 x 5 = 15\t\t\t\t4 x 5 = 20\t\t\t\t2 x 6 = 12\t\t\t\t3 x 6 = 18\t\t\t\t4 x 6 = 24\t\t\t\t2 x 7 = 14\t\t\t\t3 x 7 = 21\t\t\t\t4 x 7 = 28\t\t\t\t2 x 8 = 16\t\t\t\t3 x 8 = 24\t\t\t\t4 x 8 = 32\t\t\t\t2 x 9 = 18\t\t\t\t3 x 9 = 27\t\t\t\t4 x 9 = 36\t\t\t\t2 x 10 = 20\t\t\t\t3 x 10 = 30\t\t\t\t4 x 10 = 40\t\t\t\t\n",
      "\n"
     ]
    }
   ],
   "source": [
    "print(\"assignment-column wise table 4, 5 and\")\n",
    "for y in range(1,11):\n",
    "    for x in range(2,5):\n",
    "        print(\"{} x {} = {}\".format(x,y,x*y),end=\"\\t\\t\\t\\t\")\n",
    "print(\"\\n\")     "
   ]
  },
  {
   "cell_type": "code",
   "execution_count": 28,
   "metadata": {},
   "outputs": [
    {
     "name": "stdout",
     "output_type": "stream",
     "text": [
      "assignment-column wise table 4,5 and\n",
      "1 x 2 = 2\t\t\t\t1 x 3 = 3\t\t\t\t1 x 4 = 4\t\t\t\t2 x 2 = 4\t\t\t\t2 x 3 = 6\t\t\t\t2 x 4 = 8\t\t\t\t3 x 2 = 6\t\t\t\t3 x 3 = 9\t\t\t\t3 x 4 = 12\t\t\t\t4 x 2 = 8\t\t\t\t4 x 3 = 12\t\t\t\t4 x 4 = 16\t\t\t\t5 x 2 = 10\t\t\t\t5 x 3 = 15\t\t\t\t5 x 4 = 20\t\t\t\t6 x 2 = 12\t\t\t\t6 x 3 = 18\t\t\t\t6 x 4 = 24\t\t\t\t7 x 2 = 14\t\t\t\t7 x 3 = 21\t\t\t\t7 x 4 = 28\t\t\t\t8 x 2 = 16\t\t\t\t8 x 3 = 24\t\t\t\t8 x 4 = 32\t\t\t\t9 x 2 = 18\t\t\t\t9 x 3 = 27\t\t\t\t9 x 4 = 36\t\t\t\t10 x 2 = 20\t\t\t\t10 x 3 = 30\t\t\t\t10 x 4 = 40\t\t\t\t\n",
      "\n"
     ]
    }
   ],
   "source": [
    "print(\"assignment-column wise table 4,5 and\")\n",
    "for a in range(1,11):\n",
    "    for x in range(2,5):\n",
    "        print(\"{} x {} = {}\".format(a,x,a*x),end=\"\\t\\t\\t\\t\")\n",
    "print(\"\\n\")        "
   ]
  },
  {
   "cell_type": "code",
   "execution_count": null,
   "metadata": {},
   "outputs": [],
   "source": []
  }
 ],
 "metadata": {
  "kernelspec": {
   "display_name": "Python 3",
   "language": "python",
   "name": "python3"
  },
  "language_info": {
   "codemirror_mode": {
    "name": "ipython",
    "version": 3
   },
   "file_extension": ".py",
   "mimetype": "text/x-python",
   "name": "python",
   "nbconvert_exporter": "python",
   "pygments_lexer": "ipython3",
   "version": "3.7.3"
  }
 },
 "nbformat": 4,
 "nbformat_minor": 2
}
