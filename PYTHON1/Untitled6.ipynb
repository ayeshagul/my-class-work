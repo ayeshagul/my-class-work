{
 "cells": [
  {
   "cell_type": "markdown",
   "metadata": {},
   "source": [
    "# practise "
   ]
  },
  {
   "cell_type": "code",
   "execution_count": null,
   "metadata": {},
   "outputs": [],
   "source": [
    "dictinory"
   ]
  },
  {
   "cell_type": "code",
   "execution_count": 4,
   "metadata": {},
   "outputs": [
    {
     "name": "stdout",
     "output_type": "stream",
     "text": [
      "{1: 'karachi', 2: 'multan', 3: 'lahore'}\n"
     ]
    }
   ],
   "source": [
    "city = {1:\"karachi\", 2:\"multan\", 3:\"lahore\"}\n",
    "print(city)"
   ]
  },
  {
   "cell_type": "code",
   "execution_count": 18,
   "metadata": {},
   "outputs": [
    {
     "name": "stdout",
     "output_type": "stream",
     "text": [
      "{1: 'gul', 2: 'zebi', 3: 'ayaz'}\n"
     ]
    }
   ],
   "source": [
    "students_name = {1:\"gul\", 2:\"zebi\", 3:\"ayaz\"}\n",
    "print(students_name)"
   ]
  },
  {
   "cell_type": "code",
   "execution_count": 19,
   "metadata": {},
   "outputs": [
    {
     "name": "stdout",
     "output_type": "stream",
     "text": [
      "{1: 3455667, 2: 9876888, 3: 6756545}\n"
     ]
    }
   ],
   "source": [
    "students_cnic = {1:3455667, 2:9876888, 3:6756545}\n",
    "print(students_cnic)"
   ]
  },
  {
   "cell_type": "code",
   "execution_count": 43,
   "metadata": {},
   "outputs": [
    {
     "name": "stdout",
     "output_type": "stream",
     "text": [
      "First Name: Ayesha\n",
      "Last Name: gul\n",
      "Age: 23\n",
      "City: Karachi\n"
     ]
    }
   ],
   "source": [
    "person = {\n",
    "    \"first_name\": \"Ayesha\",\n",
    "    \"last_name\": \"gul\",\n",
    "    \"age\": 23,\n",
    "    \"city\": \"Karachi\"\n",
    "}\n",
    "\n",
    "print(\"First Name: \" + person[\"first_name\"])\n",
    "print(\"Last Name: \" + person[\"last_name\"])\n",
    "print(\"Age: \" + str(person[\"age\"]))\n",
    "print(\"City: \" + person[\"city\"])"
   ]
  },
  {
   "cell_type": "code",
   "execution_count": 48,
   "metadata": {},
   "outputs": [
    {
     "name": "stdout",
     "output_type": "stream",
     "text": [
      "First_Name: ayesha\n",
      "Last_Name: khan\n",
      "Age: 23\n",
      "City: karachi\n"
     ]
    }
   ],
   "source": [
    "infro = {\n",
    "    \"first_name\": \"ayesha\",\n",
    "    \"last_name\": \"khan\",\n",
    "    \"age\": 23,\n",
    "    \"city\": \"karachi\"\n",
    "}\n",
    "\n",
    "print(\"First_Name: \" + infro[\"first_name\"])\n",
    "print(\"Last_Name: \" + infro[\"last_name\"])\n",
    "print(\"Age: \" + str(infro[\"age\"]))\n",
    "print(\"City: \" + infro[\"city\"])"
   ]
  },
  {
   "cell_type": "code",
   "execution_count": 38,
   "metadata": {},
   "outputs": [
    {
     "name": "stdout",
     "output_type": "stream",
     "text": [
      "First Name: Ayesha\n",
      "Last Name: gul\n",
      "Age: 23\n",
      "City: Karachi\n"
     ]
    }
   ],
   "source": [
    "person = {\n",
    "    \"first_name\": \"Ayesha\",\n",
    "    \"last_name\": \"gul\",\n",
    "    \"age\": 23,\n",
    "    \"city\": \"Karachi\"\n",
    "}\n",
    "\n",
    "print(\"First Name: \" + person[\"first_name\"])\n",
    "print(\"Last Name: \" + person[\"last_name\"])\n",
    "print(\"Age: \" + str(person[\"age\"]))\n",
    "print(\"City: \" + person[\"city\"])"
   ]
  },
  {
   "cell_type": "code",
   "execution_count": 71,
   "metadata": {},
   "outputs": [
    {
     "name": "stdout",
     "output_type": "stream",
     "text": [
      "First_Number : 1223456778\n",
      "Age : 36\n"
     ]
    }
   ],
   "source": [
    "sums = {\n",
    "    \n",
    "    \"first_number\": 1223456778,\n",
    "    \"age\": 36,\n",
    "}\n",
    "print(\"First_Number : \" + str(sums[\"first_number\"]))\n",
    "print(\"Age : \" + str(sums[\"age\"]))"
   ]
  },
  {
   "cell_type": "code",
   "execution_count": 72,
   "metadata": {},
   "outputs": [],
   "source": [
    "info = {\n",
    "    \"cnic\": 567789900,\n",
    "     \"roll_no\": 67888765,\n",
    "    \"batch_no\": 9877654,\n",
    "    \n",
    "}\n"
   ]
  },
  {
   "cell_type": "code",
   "execution_count": 84,
   "metadata": {},
   "outputs": [
    {
     "name": "stdout",
     "output_type": "stream",
     "text": [
      "{'cnic': 567789900, 'roll_no': 67888765, 'batch_no': 9877654}\n"
     ]
    }
   ],
   "source": [
    "print(info)"
   ]
  },
  {
   "cell_type": "code",
   "execution_count": 90,
   "metadata": {},
   "outputs": [
    {
     "data": {
      "text/plain": [
       "dict_items([('cnic', 567789900), ('roll_no', 67888765), ('batch_no', 9877654)])"
      ]
     },
     "execution_count": 90,
     "metadata": {},
     "output_type": "execute_result"
    }
   ],
   "source": [
    "info.items()"
   ]
  },
  {
   "cell_type": "code",
   "execution_count": 92,
   "metadata": {},
   "outputs": [
    {
     "data": {
      "text/plain": [
       "dict_keys(['cnic', 'roll_no', 'batch_no'])"
      ]
     },
     "execution_count": 92,
     "metadata": {},
     "output_type": "execute_result"
    }
   ],
   "source": [
    "info.keys()"
   ]
  },
  {
   "cell_type": "code",
   "execution_count": 93,
   "metadata": {},
   "outputs": [
    {
     "data": {
      "text/plain": [
       "dict_values([567789900, 67888765, 9877654])"
      ]
     },
     "execution_count": 93,
     "metadata": {},
     "output_type": "execute_result"
    }
   ],
   "source": [
    "info.values()"
   ]
  },
  {
   "cell_type": "code",
   "execution_count": 6,
   "metadata": {},
   "outputs": [
    {
     "name": "stdout",
     "output_type": "stream",
     "text": [
      "First_Name:Ayesha gul\n",
      "Education :B.A\n",
      "Age : 43\n",
      "city : karachi\n"
     ]
    }
   ],
   "source": [
    "intro = {\n",
    "    \"first_name\": \"Ayesha gul\",\n",
    "    \"education\": \"B.A\",\n",
    "    \"age\": 43,\n",
    "    \"city\": \"karachi\"\n",
    "    \n",
    "}\n",
    "print(\"First_Name:\" + intro[\"first_name\"])\n",
    "print(\"Education :\" + intro[\"education\"])\n",
    "print(\"Age : \"+ str(intro[\"age\"]))\n",
    "print(\"city : \" + intro[\"city\"])"
   ]
  },
  {
   "cell_type": "code",
   "execution_count": 10,
   "metadata": {},
   "outputs": [
    {
     "ename": "AttributeError",
     "evalue": "'dict' object has no attribute 'key'",
     "output_type": "error",
     "traceback": [
      "\u001b[1;31m---------------------------------------------------------------------------\u001b[0m",
      "\u001b[1;31mAttributeError\u001b[0m                            Traceback (most recent call last)",
      "\u001b[1;32m<ipython-input-10-8ba602b3ff9f>\u001b[0m in \u001b[0;36m<module>\u001b[1;34m\u001b[0m\n\u001b[1;32m----> 1\u001b[1;33m \u001b[0mintro\u001b[0m\u001b[1;33m.\u001b[0m\u001b[0mkey\u001b[0m\u001b[1;33m(\u001b[0m\u001b[1;33m)\u001b[0m\u001b[1;33m\u001b[0m\u001b[1;33m\u001b[0m\u001b[0m\n\u001b[0m",
      "\u001b[1;31mAttributeError\u001b[0m: 'dict' object has no attribute 'key'"
     ]
    }
   ],
   "source": []
  },
  {
   "cell_type": "code",
   "execution_count": null,
   "metadata": {},
   "outputs": [],
   "source": []
  },
  {
   "cell_type": "code",
   "execution_count": null,
   "metadata": {},
   "outputs": [],
   "source": []
  }
 ],
 "metadata": {
  "kernelspec": {
   "display_name": "Python 3",
   "language": "python",
   "name": "python3"
  },
  "language_info": {
   "codemirror_mode": {
    "name": "ipython",
    "version": 3
   },
   "file_extension": ".py",
   "mimetype": "text/x-python",
   "name": "python",
   "nbconvert_exporter": "python",
   "pygments_lexer": "ipython3",
   "version": "3.7.3"
  }
 },
 "nbformat": 4,
 "nbformat_minor": 2
}
