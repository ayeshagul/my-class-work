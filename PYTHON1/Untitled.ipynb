{
 "cells": [
  {
   "cell_type": "markdown",
   "metadata": {},
   "source": [
    "# if statement"
   ]
  },
  {
   "cell_type": "code",
   "execution_count": 2,
   "metadata": {},
   "outputs": [],
   "source": [
    "a = 10 \n",
    "b = 20"
   ]
  },
  {
   "cell_type": "code",
   "execution_count": 3,
   "metadata": {},
   "outputs": [
    {
     "data": {
      "text/plain": [
       "True"
      ]
     },
     "execution_count": 3,
     "metadata": {},
     "output_type": "execute_result"
    }
   ],
   "source": [
    "a!=b"
   ]
  },
  {
   "cell_type": "code",
   "execution_count": null,
   "metadata": {},
   "outputs": [],
   "source": [
    "if a < b:\n",
    "    abbbbb\n",
    "    hhhhh\n",
    "    yyyyy\n",
    "    jjhhhh     if indint\n",
    "    hhhhgg\n",
    "    ffff\n",
    "aacccc    not if indent"
   ]
  },
  {
   "cell_type": "code",
   "execution_count": 4,
   "metadata": {},
   "outputs": [
    {
     "name": "stdout",
     "output_type": "stream",
     "text": [
      "if is true\n",
      "if is true\n",
      "if is true\n",
      "if is true\n"
     ]
    }
   ],
   "source": [
    "a = 10\n",
    "b = 20\n",
    "if a < b :\n",
    "    print(\"if is true\")\n",
    "    print(\"if is true\")\n",
    "    print(\"if is true\")\n",
    "    print(\"if is true\")\n",
    "else:\n",
    "    print(\"if is false\")\n",
    "    print(\"if is false\")"
   ]
  },
  {
   "cell_type": "code",
   "execution_count": 5,
   "metadata": {},
   "outputs": [
    {
     "name": "stdout",
     "output_type": "stream",
     "text": [
      "Enter a number?31\n",
      "Enter b number?27\n",
      "a greater than b\n"
     ]
    }
   ],
   "source": [
    "a = int(input(\"Enter a number?\"))\n",
    "b = int(input(\"Enter b number?\"))\n",
    "if a < b :\n",
    "    print(\"a less than b\")\n",
    "elif a > b :#else if\n",
    "    print(\"a greater than b\")\n",
    "elif a == b:\n",
    "    print(\"a equal b\")\n",
    "else:\n",
    "    print(\"invalid\")"
   ]
  },
  {
   "cell_type": "code",
   "execution_count": 5,
   "metadata": {},
   "outputs": [
    {
     "name": "stdout",
     "output_type": "stream",
     "text": [
      "if block\n"
     ]
    }
   ],
   "source": [
    "a = 10\n",
    "b = 20\n",
    "if a<b: #less than\n",
    "    print(\"if block\")\n",
    "#elif   \n",
    "else:\n",
    "    print(\"else block\")"
   ]
  },
  {
   "cell_type": "code",
   "execution_count": 6,
   "metadata": {},
   "outputs": [
    {
     "name": "stdout",
     "output_type": "stream",
     "text": [
      "else block\n"
     ]
    }
   ],
   "source": [
    "c = 30\n",
    "d = 12\n",
    "if c < d:\n",
    "    print(\"if block\")\n",
    "else:\n",
    "    print(\"else block\")"
   ]
  },
  {
   "cell_type": "code",
   "execution_count": 7,
   "metadata": {},
   "outputs": [
    {
     "name": "stdout",
     "output_type": "stream",
     "text": [
      "enter the temperature today35\n",
      "its hot weather today\n"
     ]
    }
   ],
   "source": [
    "temp = int(input(\"enter the temperature today \"))\n",
    "if temp > 30:\n",
    "    print(\"its hot weather today\")\n",
    "else:\n",
    "    print(\"normal weather\")"
   ]
  },
  {
   "cell_type": "code",
   "execution_count": 8,
   "metadata": {},
   "outputs": [
    {
     "name": "stdout",
     "output_type": "stream",
     "text": [
      "enter the temperature today36\n",
      "its hot weather today\n"
     ]
    }
   ],
   "source": [
    "temp = int(input(\"enter the temperature today \"))\n",
    "if temp>30:\n",
    "    print(\"its hot weather today\")\n",
    "else:\n",
    "    print(\" its normal weather today\")"
   ]
  }
 ],
 "metadata": {
  "kernelspec": {
   "display_name": "Python 3",
   "language": "python",
   "name": "python3"
  },
  "language_info": {
   "codemirror_mode": {
    "name": "ipython",
    "version": 3
   },
   "file_extension": ".py",
   "mimetype": "text/x-python",
   "name": "python",
   "nbconvert_exporter": "python",
   "pygments_lexer": "ipython3",
   "version": "3.7.3"
  }
 },
 "nbformat": 4,
 "nbformat_minor": 2
}
