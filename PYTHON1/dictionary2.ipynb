{
 "cells": [
  {
   "cell_type": "markdown",
   "metadata": {},
   "source": [
    "# Dictionary"
   ]
  },
  {
   "cell_type": "code",
   "execution_count": 8,
   "metadata": {},
   "outputs": [
    {
     "name": "stdout",
     "output_type": "stream",
     "text": [
      "{'Company': 'Samsung', 'Memory': 4, 'Internal': 32}\n"
     ]
    }
   ],
   "source": [
    "#clear\n",
    "#name = {\"key\":\"value\"}\n",
    "mobile = {\n",
    "        \"Company\":\"Samsung\",\n",
    "        \"Memory\":4 ,\n",
    "        \"Internal\":32\n",
    "}\n",
    "print(mobile)\n"
   ]
  },
  {
   "cell_type": "code",
   "execution_count": null,
   "metadata": {},
   "outputs": [],
   "source": [
    "intro = {\n",
    "        \"\":"
   ]
  },
  {
   "cell_type": "code",
   "execution_count": 5,
   "metadata": {},
   "outputs": [
    {
     "name": "stdout",
     "output_type": "stream",
     "text": [
      "{'Student Name': 'ayesha gul', 'age': 30, 'qualification': 'B.A'}\n"
     ]
    }
   ],
   "source": [
    "info = {\n",
    "       \"Student Name\":\"ayesha gul\" ,\n",
    "       \"age\":30,\n",
    "       \"qualification\":\"B.A\"\n",
    "}      \n",
    "print(info)"
   ]
  },
  {
   "cell_type": "code",
   "execution_count": 6,
   "metadata": {},
   "outputs": [],
   "source": [
    "mobile.clear()"
   ]
  },
  {
   "cell_type": "code",
   "execution_count": 9,
   "metadata": {},
   "outputs": [
    {
     "name": "stdout",
     "output_type": "stream",
     "text": [
      "{'Company': 'Samsung', 'Memory': 4, 'Internal': 32}\n"
     ]
    }
   ],
   "source": [
    "#copy\n",
    "a = mobile.copy()\n",
    "print(a)"
   ]
  },
  {
   "cell_type": "code",
   "execution_count": 17,
   "metadata": {},
   "outputs": [
    {
     "name": "stdout",
     "output_type": "stream",
     "text": [
      "{'i': 'Vowel', 'o': 'Vowel', 'e': 'Vowel', 'a': 'Vowel', 'u': 'Vowel'}\n"
     ]
    }
   ],
   "source": [
    "#fromkeys\n",
    "vowels = {\"a\",\"e\",\"i\",\"o\",\"u\"}\n",
    "y = \"Vowel\"\n",
    "x = dict.fromkeys(vowels,y)\n",
    "print(x)"
   ]
  },
  {
   "cell_type": "code",
   "execution_count": 18,
   "metadata": {},
   "outputs": [
    {
     "name": "stdout",
     "output_type": "stream",
     "text": [
      "Name Zohaib\n",
      "Age 27\n"
     ]
    }
   ],
   "source": [
    "#get\n",
    "info = {\"name\":\"Zohaib\",\"age\":27}\n",
    "print(\"Name\",info.get(\"name\"))\n",
    "print(\"Age\",info.get(\"age\"))"
   ]
  },
  {
   "cell_type": "code",
   "execution_count": 19,
   "metadata": {},
   "outputs": [
    {
     "data": {
      "text/plain": [
       "dict_items([('Name', 'Banana'), ('weight', 126), ('Perks', 'Health body')])"
      ]
     },
     "execution_count": 19,
     "metadata": {},
     "output_type": "execute_result"
    }
   ],
   "source": [
    "#items\n",
    "fruits = {    \n",
    "        \"Name\":\"Banana\",\n",
    "        \"weight\":126,\n",
    "        \"Perks\": \"Health body\"\n",
    "}\n",
    "fruits.items()\n",
    "# for i in fruits.items():\n",
    "        print(i) "
   ]
  },
  {
   "cell_type": "code",
   "execution_count": 22,
   "metadata": {},
   "outputs": [
    {
     "name": "stdout",
     "output_type": "stream",
     "text": [
      "dict_keys(['Name', 'Age', 'Education'])\n"
     ]
    }
   ],
   "source": [
    "#keys\n",
    "info = {\n",
    "    \"Name\":\"Assam\",\n",
    "    \"Age\":22,\n",
    "    \"Education\":\"Intermediate\"\n",
    "}\n",
    "x = info.keys()\n",
    "print(x)\n"
   ]
  },
  {
   "cell_type": "code",
   "execution_count": 28,
   "metadata": {},
   "outputs": [
    {
     "name": "stdout",
     "output_type": "stream",
     "text": [
      "{'Name': 'Uzair', 'Age': 15}\n",
      "Apply popitem ('Age', 15)\n",
      "{'Name': 'Uzair'}\n"
     ]
    }
   ],
   "source": [
    "#popitem\n",
    "schoolinfo = {\n",
    "    \"Name\":\"Uzair\",\n",
    "    \"Age\":15\n",
    "}\n",
    "print(schoolinfo)\n",
    "x = schoolinfo.popitem()\n",
    "print(\"Apply popitem\",x)\n",
    "print(schoolinfo)"
   ]
  },
  {
   "cell_type": "code",
   "execution_count": 6,
   "metadata": {},
   "outputs": [
    {
     "name": "stdout",
     "output_type": "stream",
     "text": [
      "person =  {'name': 'Phill', 'age': 22}\n",
      "Return Value =  ('salary', 3500.0)\n"
     ]
    }
   ],
   "source": [
    "person = {'name': 'Phill', 'age': 22, 'salary': 3500.0}\n",
    "\n",
    "result = person.popitem()\n",
    "print('person = ',person)\n",
    "print('Return Value = ',result)"
   ]
  },
  {
   "cell_type": "code",
   "execution_count": 7,
   "metadata": {},
   "outputs": [
    {
     "name": "stdout",
     "output_type": "stream",
     "text": [
      "Student Info ('Age', 27)\n"
     ]
    }
   ],
   "source": [
    "student = {\"ID\":62738,\"Name\":\"M.zohaib Malik\",\"Age\":27}\n",
    "x = student.popitem()\n",
    "print(\"Student Info\",x)"
   ]
  },
  {
   "cell_type": "code",
   "execution_count": 32,
   "metadata": {},
   "outputs": [
    {
     "name": "stdout",
     "output_type": "stream",
     "text": [
      "Core i5\n"
     ]
    }
   ],
   "source": [
    "#setdefault\n",
    "computer = {\n",
    "        \"Brand\":\"Dell\",\n",
    "        \"Model\":7760,\n",
    "        \"Price\":9500\n",
    "}\n",
    "a = computer.setdefault(\"Processor type\",\"Core i5\")\n",
    "print(a)"
   ]
  },
  {
   "cell_type": "code",
   "execution_count": 35,
   "metadata": {},
   "outputs": [
    {
     "name": "stdout",
     "output_type": "stream",
     "text": [
      "2\n"
     ]
    }
   ],
   "source": [
    "#pop\n",
    "position = {\n",
    "        \"1st \":1,\n",
    "        \"Second\":2,\n",
    "        \"Third\":3\n",
    "            }\n",
    "x =  position.pop(\"Second\")\n",
    "print(x)"
   ]
  },
  {
   "cell_type": "code",
   "execution_count": 36,
   "metadata": {},
   "outputs": [
    {
     "name": "stdout",
     "output_type": "stream",
     "text": [
      "dict_values(['Dawn', 'Express Tribune', 'Duniya', 'Jung'])\n"
     ]
    }
   ],
   "source": [
    "#values\n",
    "newspaper = {\n",
    "        \"1st \":\"Dawn\",\n",
    "        \"Second\":\"Express Tribune\",\n",
    "        \"Third\":\"Duniya\",\n",
    "        \"Fourth\":\"Jung\"\n",
    "            }\n",
    "x = newspaper.values()\n",
    "print(x)"
   ]
  },
  {
   "cell_type": "code",
   "execution_count": 43,
   "metadata": {},
   "outputs": [
    {
     "name": "stdout",
     "output_type": "stream",
     "text": [
      "{1: 'a', 2: 'b', 'c': 3}\n"
     ]
    }
   ],
   "source": [
    "#update\n",
    "alphabet = {\n",
    "    1:\"a\",\n",
    "    2:\"b\",\n",
    "}\n",
    "\n",
    "alphabet.update(c = 3)\n",
    "print(alphabet)"
   ]
  },
  {
   "cell_type": "code",
   "execution_count": 44,
   "metadata": {},
   "outputs": [
    {
     "name": "stdout",
     "output_type": "stream",
     "text": [
      "True\n"
     ]
    }
   ],
   "source": [
    "#any\n",
    "number = {\n",
    "    \"1st\":1,\n",
    "    \"2nd\":2,\n",
    "    \"3rd\":3\n",
    "}\n",
    "print(any(number))"
   ]
  },
  {
   "cell_type": "code",
   "execution_count": 45,
   "metadata": {},
   "outputs": [
    {
     "name": "stdout",
     "output_type": "stream",
     "text": [
      "True\n"
     ]
    }
   ],
   "source": [
    "#all\n",
    "boolean = {\n",
    "    \"true\":1,\n",
    "    \"false\":0,\n",
    "    \"null\":\"none\"\n",
    "}\n",
    "print(all(number))"
   ]
  },
  {
   "cell_type": "code",
   "execution_count": 46,
   "metadata": {},
   "outputs": [
    {
     "name": "stdout",
     "output_type": "stream",
     "text": [
      "True\n"
     ]
    }
   ],
   "source": [
    "#ascii\n",
    "alphabets = {\n",
    "    \"A\":65,\n",
    "    \"B\":66,\n",
    "    \"C\":67\n",
    "}\n",
    "x = bool(alphabet)\n",
    "print(x)\n",
    "#when dictionary value is empty result will give false"
   ]
  },
  {
   "cell_type": "code",
   "execution_count": 48,
   "metadata": {},
   "outputs": [
    {
     "name": "stdout",
     "output_type": "stream",
     "text": [
      "{'first': 1, 'secnd': 2, 'third': 3}\n"
     ]
    }
   ],
   "source": [
    "#dict\n",
    "number = dict(first=1,secnd=2,third=3)\n",
    "print(number)  "
   ]
  },
  {
   "cell_type": "code",
   "execution_count": 56,
   "metadata": {},
   "outputs": [
    {
     "name": "stdout",
     "output_type": "stream",
     "text": [
      "(0, 1)\n",
      "(1, 2)\n",
      "(2, 3)\n"
     ]
    }
   ],
   "source": [
    "#enumerate\n",
    "items = {\n",
    "        1:\"pen\",\n",
    "        2:\"ink\",\n",
    "        3:\"remover\"\n",
    "}\n",
    "#x = enumerate(items)\n",
    "#print(x)\n",
    "for e in  enumerate(items):\n",
    "    print(e)"
   ]
  },
  {
   "cell_type": "code",
   "execution_count": 58,
   "metadata": {},
   "outputs": [
    {
     "name": "stdout",
     "output_type": "stream",
     "text": [
      "<filter object at 0x056DCFD0>\n"
     ]
    }
   ],
   "source": [
    "#filter\n",
    "position = {\n",
    "        1:\"First\",\n",
    "        2:\"Second\",\n",
    "        3:\"Third\"\n",
    "}\n",
    "x = filter(None,position)\n",
    "print(x)"
   ]
  },
  {
   "cell_type": "code",
   "execution_count": null,
   "metadata": {},
   "outputs": [],
   "source": []
  }
 ],
 "metadata": {
  "kernelspec": {
   "display_name": "Python 3",
   "language": "python",
   "name": "python3"
  },
  "language_info": {
   "codemirror_mode": {
    "name": "ipython",
    "version": 3
   },
   "file_extension": ".py",
   "mimetype": "text/x-python",
   "name": "python",
   "nbconvert_exporter": "python",
   "pygments_lexer": "ipython3",
   "version": "3.7.3"
  }
 },
 "nbformat": 4,
 "nbformat_minor": 2
}
