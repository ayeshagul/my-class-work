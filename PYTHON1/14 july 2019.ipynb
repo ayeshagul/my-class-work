{
 "cells": [
  {
   "cell_type": "markdown",
   "metadata": {},
   "source": [
    "# classes"
   ]
  },
  {
   "cell_type": "code",
   "execution_count": null,
   "metadata": {},
   "outputs": [],
   "source": [
    "#classes are templates. \n",
    "#They help you standardize and organize information. "
   ]
  },
  {
   "cell_type": "code",
   "execution_count": null,
   "metadata": {},
   "outputs": [],
   "source": [
    "# object ko aik or word dia jata hay instint\n",
    "# instint part hota hay."
   ]
  },
  {
   "cell_type": "code",
   "execution_count": null,
   "metadata": {},
   "outputs": [],
   "source": [
    "# all thing are object\n",
    "# design bnaya jata hy jb model bnanaya jye tou \n",
    "#wo us design us model ki class\n",
    "#or tamplet hy"
   ]
  },
  {
   "cell_type": "code",
   "execution_count": null,
   "metadata": {},
   "outputs": [],
   "source": [
    "# object apni class ka namona hota hay\n",
    "# agar object class ki copy honi chahye.\n",
    "# object ko class ka part banna hay tou class k rules\n",
    "# or patterns ko follow karna hoga.\n",
    "# class bnti hy jo b cheez object hoti hy us k passs 2\n",
    "#cheezen lamzi hogi properties, behaviour\n",
    "prop = fans, (heiht, weight(human), etc\n",
    "behv = listening(human),on, off,"
   ]
  },
  {
   "cell_type": "code",
   "execution_count": null,
   "metadata": {},
   "outputs": [],
   "source": [
    "class Mobile ():\n",
    "    # attributer\n",
    "   ''''' colour.size.ram.memory.price\n",
    "    # behaviour = funtion hoty hein\n",
    "    makescall.receivecall.dropAcall.messageWrite\n",
    "    sendmessage.messageReceive\n",
    "    # self k andr jo value aye ga wo object ka part hoga\n"
   ]
  },
  {
   "cell_type": "code",
   "execution_count": 12,
   "metadata": {},
   "outputs": [],
   "source": [
    "class Mobile ():\n",
    "    #attributes .... variabl\n",
    "    def __init__(self, brand, color, memory, ram, price=\"free\" ):\n",
    "        self.mobileBrand = brand\n",
    "        self.mobileColor = color\n",
    "        self.mobilePrize = price\n",
    "        self.mobileMemory = memory\n",
    "        self.mobileRam = ram\n",
    "        \n",
    "    def makeCall(self):\n",
    "        print(\"mobile is calling\")\n",
    "        \n",
    "    def recCall(self):\n",
    "        print(\"mobile is receiving\")\n",
    "        \n",
    "    def sendMessage(self):\n",
    "        print(\"mobile is sendinf a message\")\n",
    "        \n",
    "    def recevMessage(self):\n",
    "        print(\"mobile is receiving a message\")"
   ]
  },
  {
   "cell_type": "code",
   "execution_count": 13,
   "metadata": {},
   "outputs": [],
   "source": [
    "mobile1 = Mobile(\"Nokia\", \"Black\", 10000, \"16GB\", \"2GB\")"
   ]
  },
  {
   "cell_type": "code",
   "execution_count": 16,
   "metadata": {},
   "outputs": [],
   "source": [
    "mobile2 = Mobile(\"Nokia\", \"white\", \"14GB\", \"1GB\", 10000)"
   ]
  },
  {
   "cell_type": "code",
   "execution_count": 19,
   "metadata": {},
   "outputs": [
    {
     "data": {
      "text/plain": [
       "'Black'"
      ]
     },
     "execution_count": 19,
     "metadata": {},
     "output_type": "execute_result"
    }
   ],
   "source": [
    "mobile1.mobileColor"
   ]
  },
  {
   "cell_type": "code",
   "execution_count": 20,
   "metadata": {},
   "outputs": [
    {
     "data": {
      "text/plain": [
       "'16GB'"
      ]
     },
     "execution_count": 20,
     "metadata": {},
     "output_type": "execute_result"
    }
   ],
   "source": [
    "mobile1.mobileRam"
   ]
  },
  {
   "cell_type": "code",
   "execution_count": 21,
   "metadata": {},
   "outputs": [
    {
     "data": {
      "text/plain": [
       "'Nokia'"
      ]
     },
     "execution_count": 21,
     "metadata": {},
     "output_type": "execute_result"
    }
   ],
   "source": [
    "mobile1.mobileBrand"
   ]
  },
  {
   "cell_type": "code",
   "execution_count": 22,
   "metadata": {},
   "outputs": [
    {
     "data": {
      "text/plain": [
       "10000"
      ]
     },
     "execution_count": 22,
     "metadata": {},
     "output_type": "execute_result"
    }
   ],
   "source": [
    "mobile1.mobileMemory"
   ]
  },
  {
   "cell_type": "code",
   "execution_count": 26,
   "metadata": {},
   "outputs": [
    {
     "name": "stdout",
     "output_type": "stream",
     "text": [
      "mobile is calling\n"
     ]
    }
   ],
   "source": [
    "mobile1.makeCall()"
   ]
  },
  {
   "cell_type": "code",
   "execution_count": 29,
   "metadata": {},
   "outputs": [
    {
     "name": "stdout",
     "output_type": "stream",
     "text": [
      "mobile is receiving\n"
     ]
    }
   ],
   "source": [
    "mobile1.recCall()"
   ]
  },
  {
   "cell_type": "code",
   "execution_count": 31,
   "metadata": {},
   "outputs": [
    {
     "name": "stdout",
     "output_type": "stream",
     "text": [
      "mobile is receiving a message\n"
     ]
    }
   ],
   "source": [
    "mobile1.recevMessage()"
   ]
  },
  {
   "cell_type": "code",
   "execution_count": 32,
   "metadata": {},
   "outputs": [
    {
     "name": "stdout",
     "output_type": "stream",
     "text": [
      "mobile is sendinf a message\n"
     ]
    }
   ],
   "source": [
    "mobile1.sendMessage()"
   ]
  },
  {
   "cell_type": "code",
   "execution_count": 46,
   "metadata": {},
   "outputs": [],
   "source": [
    "class Mobile ():\n",
    "    #attributes .... variabl\n",
    "    def __init__(self, brand, color, memory, ram, price=\"free\" ):\n",
    "        self.mobileBrand = brand\n",
    "        self.mobileColor = color\n",
    "        self.mobilePrize = price\n",
    "        self.mobileMemory = memory\n",
    "        self.mobileRam = ram\n",
    "        \n",
    "    def makeCall(self):\n",
    "        print(f\"{self.mobileBrand} mobile is calling\")\n",
    "        \n",
    "    def recCall(self):\n",
    "        print(f\"{self.mobileBrand} mobile is receiving a call\")\n"
   ]
  },
  {
   "cell_type": "code",
   "execution_count": 50,
   "metadata": {},
   "outputs": [],
   "source": [
    "mobile1 = Mobile(\"Nokia\", \"Black\", 10000, \"16GB\", \"2GB\")\n",
    "mobile2 = Mobile(\"Nokia\", \"white\", \"14GB\", \"1GB\", 10000)"
   ]
  },
  {
   "cell_type": "code",
   "execution_count": 51,
   "metadata": {},
   "outputs": [
    {
     "name": "stdout",
     "output_type": "stream",
     "text": [
      "Nokia mobile is calling\n"
     ]
    }
   ],
   "source": [
    "mobile1. makeCall()"
   ]
  },
  {
   "cell_type": "code",
   "execution_count": 52,
   "metadata": {},
   "outputs": [
    {
     "name": "stdout",
     "output_type": "stream",
     "text": [
      "Nokia mobile is receiving a call\n"
     ]
    }
   ],
   "source": [
    "mobile1 .recCall()"
   ]
  },
  {
   "cell_type": "code",
   "execution_count": 72,
   "metadata": {},
   "outputs": [],
   "source": [
    "class student():\n",
    "    def __init__(self, name, gender, course, email):\n",
    "        self.name =name\n",
    "        self.gender =gender\n",
    "        self.course =course\n",
    "        self.email =email\n",
    "        self.GPA = 0\n",
    "        \n",
    "        def study(self):\n",
    "            print(f\"{self.name} is studing\")\n",
    "            \n",
    "        def exam(self):\n",
    "            print(f\"{self.name}is appering in exam\")\n",
    "            \n",
    "        def submitassignment(self):\n",
    "            print(f\"{self.name} is submitting assignment\")"
   ]
  },
  {
   "cell_type": "code",
   "execution_count": 76,
   "metadata": {},
   "outputs": [],
   "source": [
    "Student1 = student(\"ayesha\", \"f\", \"AI\", \"gul10984@outlook.com\")"
   ]
  },
  {
   "cell_type": "code",
   "execution_count": 82,
   "metadata": {},
   "outputs": [],
   "source": [
    "Student2 = student(\"gul\", \"f\", \"AI\", \"gul10984@outlook.com\")"
   ]
  },
  {
   "cell_type": "code",
   "execution_count": 67,
   "metadata": {},
   "outputs": [
    {
     "data": {
      "text/plain": [
       "'AI'"
      ]
     },
     "execution_count": 67,
     "metadata": {},
     "output_type": "execute_result"
    }
   ],
   "source": [
    "Student1.course"
   ]
  },
  {
   "cell_type": "code",
   "execution_count": 68,
   "metadata": {},
   "outputs": [
    {
     "data": {
      "text/plain": [
       "'gul10984@outlook.com'"
      ]
     },
     "execution_count": 68,
     "metadata": {},
     "output_type": "execute_result"
    }
   ],
   "source": [
    "Student1.email"
   ]
  },
  {
   "cell_type": "code",
   "execution_count": 77,
   "metadata": {},
   "outputs": [
    {
     "data": {
      "text/plain": [
       "0"
      ]
     },
     "execution_count": 77,
     "metadata": {},
     "output_type": "execute_result"
    }
   ],
   "source": [
    "Student1.GPA"
   ]
  },
  {
   "cell_type": "code",
   "execution_count": 78,
   "metadata": {},
   "outputs": [
    {
     "data": {
      "text/plain": [
       "'f'"
      ]
     },
     "execution_count": 78,
     "metadata": {},
     "output_type": "execute_result"
    }
   ],
   "source": [
    "Student2.gender"
   ]
  },
  {
   "cell_type": "code",
   "execution_count": 84,
   "metadata": {},
   "outputs": [
    {
     "data": {
      "text/plain": [
       "0"
      ]
     },
     "execution_count": 84,
     "metadata": {},
     "output_type": "execute_result"
    }
   ],
   "source": [
    "Student2.GPA"
   ]
  },
  {
   "cell_type": "markdown",
   "metadata": {},
   "source": [
    "# updating a value of attibutes via function"
   ]
  },
  {
   "cell_type": "code",
   "execution_count": 118,
   "metadata": {},
   "outputs": [],
   "source": [
    "class student():\n",
    "    def __init__(self, name, gender, course, email,GPA):\n",
    "        self.name =name\n",
    "        self.gender =gender\n",
    "        self.course =course\n",
    "        self.email =email\n",
    "        self.GPA = 0\n",
    "        \n",
    "    def getGPA(self):\n",
    "        print(f\"The GPA of {self.name}is {self.GPA}\")\n",
    "                       \n",
    "    def setGPA(self, newGPA):\n",
    "        self.GPA = newGPA\n",
    "                \n",
    "    def study(self):\n",
    "        print(f\"{self.name} is studing\")\n",
    "    def exam(self):\n",
    "         print(f\"{self.name}is appering in exam\")\n",
    "            \n",
    "    def submitassignment(self):\n",
    "        print(f\"{self.name} is submitting assignment\")\n",
    "            "
   ]
  },
  {
   "cell_type": "code",
   "execution_count": 119,
   "metadata": {},
   "outputs": [],
   "source": [
    "Student1 = student(\"ayesha\", \"f\", \"AI\", \"gul10984@outlook.com\",0)"
   ]
  },
  {
   "cell_type": "code",
   "execution_count": 120,
   "metadata": {},
   "outputs": [],
   "source": [
    "Student2 = student(\"gul\", \"f\", \"AI\", \"gul10984@outlook.com\",0)"
   ]
  },
  {
   "cell_type": "code",
   "execution_count": 121,
   "metadata": {
    "scrolled": false
   },
   "outputs": [
    {
     "name": "stdout",
     "output_type": "stream",
     "text": [
      "The GPA of ayeshais 0\n"
     ]
    }
   ],
   "source": [
    "Student1.getGPA()"
   ]
  },
  {
   "cell_type": "markdown",
   "metadata": {},
   "source": [
    "# inheritance"
   ]
  },
  {
   "cell_type": "code",
   "execution_count": null,
   "metadata": {},
   "outputs": [],
   "source": [
    "#code reusebility"
   ]
  },
  {
   "cell_type": "code",
   "execution_count": 114,
   "metadata": {},
   "outputs": [],
   "source": [
    "class smartMobile(Mobile):\n",
    "    pass"
   ]
  },
  {
   "cell_type": "code",
   "execution_count": 116,
   "metadata": {},
   "outputs": [],
   "source": [
    "sml = smartMobile(\"Nokia\", \"Black\", 10000, \"16GB\", \"2GB\")"
   ]
  },
  {
   "cell_type": "code",
   "execution_count": 123,
   "metadata": {},
   "outputs": [],
   "source": [
    "class student():\n",
    "    def __init__(self, name, gender, course, email,GPA):\n",
    "        self.name =name\n",
    "        self.gender =gender\n",
    "        self.course =course\n",
    "        self.email =email\n",
    "        self.GPA = 0\n",
    "        \n",
    "    def getGPA(self):\n",
    "        print(f\"The GPA of {self.name}is {self.GPA}\")\n",
    "                       \n",
    "    def setGPA(self, newGPA):\n",
    "        self.GPA = newGPA\n",
    "                \n",
    "    def study(self):\n",
    "        print(f\"{self.name} is studing\")\n",
    "    def exam(self):\n",
    "         print(f\"{self.name}is appering in exam\")\n",
    "            \n",
    "    def submitassignment(self):\n",
    "        print(f\"{self.name} is submitting assignment\")\n",
    "        \n",
    "    def keypad(self):\n",
    "        print(\"key pad is pressed to dial a number or message\")       "
   ]
  },
  {
   "cell_type": "code",
   "execution_count": 134,
   "metadata": {},
   "outputs": [],
   "source": [
    "class smartMobile(Mobile):\n",
    "    def __init__(self, brand, color, price, memory, ram):\n",
    "        super().__init__(brand, color, price, memory, ram)\n",
    "        self.battery = \"10amp\"\n",
    "    def camera(self):\n",
    "        print(\"smart camera is ON\")\n",
    "    def presskeypad(self):\n",
    "        print(\"there is no keypad in smartphone\")"
   ]
  },
  {
   "cell_type": "code",
   "execution_count": null,
   "metadata": {},
   "outputs": [],
   "source": []
  },
  {
   "cell_type": "code",
   "execution_count": null,
   "metadata": {},
   "outputs": [],
   "source": []
  }
 ],
 "metadata": {
  "kernelspec": {
   "display_name": "Python 3",
   "language": "python",
   "name": "python3"
  },
  "language_info": {
   "codemirror_mode": {
    "name": "ipython",
    "version": 3
   },
   "file_extension": ".py",
   "mimetype": "text/x-python",
   "name": "python",
   "nbconvert_exporter": "python",
   "pygments_lexer": "ipython3",
   "version": "3.7.3"
  }
 },
 "nbformat": 4,
 "nbformat_minor": 2
}
