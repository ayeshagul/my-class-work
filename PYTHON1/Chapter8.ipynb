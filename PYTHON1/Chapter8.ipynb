{
 "cells": [
  {
   "cell_type": "code",
   "execution_count": 1,
   "metadata": {},
   "outputs": [
    {
     "name": "stdout",
     "output_type": "stream",
     "text": [
      "Ayesha\n"
     ]
    }
   ],
   "source": [
    "#chapter 8 #concinate(merge)\n",
    "a = \"Ayesha\"\n",
    "print(a)"
   ]
  },
  {
   "cell_type": "code",
   "execution_count": 2,
   "metadata": {},
   "outputs": [
    {
     "name": "stdout",
     "output_type": "stream",
     "text": [
      "MuhamamdZohaib\n"
     ]
    }
   ],
   "source": [
    "a = \"Muhamamd\"\n",
    "b = \"Zohaib\"\n",
    "print(a+b)"
   ]
  },
  {
   "cell_type": "code",
   "execution_count": 3,
   "metadata": {},
   "outputs": [
    {
     "name": "stdout",
     "output_type": "stream",
     "text": [
      "Muhamamd Zohaib\n"
     ]
    }
   ],
   "source": [
    "a = \"Muhamamd\"\n",
    "b = \"Zohaib\"\n",
    "print(a+\" \"+b)#\"\""
   ]
  },
  {
   "cell_type": "code",
   "execution_count": 4,
   "metadata": {},
   "outputs": [
    {
     "name": "stdout",
     "output_type": "stream",
     "text": [
      "Muhamamd *-* Zohaib\n"
     ]
    }
   ],
   "source": [
    "a = \"Muhamamd\"\n",
    "b = \"Zohaib\"\n",
    "print(a+\" *-* \"+b)"
   ]
  },
  {
   "cell_type": "code",
   "execution_count": 5,
   "metadata": {},
   "outputs": [
    {
     "name": "stdout",
     "output_type": "stream",
     "text": [
      "*-*Muhamamd Zohaib*-*\n"
     ]
    }
   ],
   "source": [
    "a = \"Muhamamd\"\n",
    "b = \"Zohaib\"\n",
    "print(\"*-*\"+a+\" \"+b+\"*-*\")"
   ]
  },
  {
   "cell_type": "code",
   "execution_count": 6,
   "metadata": {},
   "outputs": [
    {
     "name": "stdout",
     "output_type": "stream",
     "text": [
      "PAFKIET\n"
     ]
    }
   ],
   "source": [
    "#variable\n",
    "a = \"PAF\"\n",
    "b = \"KIET\"\n",
    "c = a + b\n",
    "#print(a+b)\n",
    "print(c)"
   ]
  },
  {
   "cell_type": "code",
   "execution_count": 7,
   "metadata": {},
   "outputs": [
    {
     "name": "stdout",
     "output_type": "stream",
     "text": [
      "PAF KIET\n"
     ]
    }
   ],
   "source": [
    "#variable\n",
    "a = \"PAF\"\n",
    "b = \"KIET\"\n",
    "c = a +\" \"+ b\n",
    "#print(a+b)\n",
    "print(c)"
   ]
  },
  {
   "cell_type": "code",
   "execution_count": 12,
   "metadata": {},
   "outputs": [
    {
     "name": "stdout",
     "output_type": "stream",
     "text": [
      "Pakistan Zindabad\n"
     ]
    }
   ],
   "source": [
    "#variable in new style\n",
    "a = \"Pakistan\"\n",
    "b = \" \"\n",
    "c = \"Zindabad\"\n",
    "d = a + b + c\n",
    "#print(a + b + c)\n",
    "print(d)"
   ]
  },
  {
   "cell_type": "markdown",
   "metadata": {},
   "source": [
    "#variable number\n",
    "a = 5\n",
    "b = 5\n",
    "c = a + b#+ sign show only adition\n",
    "print(\"The addition of two numbers is: \"+c)"
   ]
  },
  {
   "cell_type": "code",
   "execution_count": null,
   "metadata": {},
   "outputs": [],
   "source": []
  }
 ],
 "metadata": {
  "kernelspec": {
   "display_name": "Python 3",
   "language": "python",
   "name": "python3"
  },
  "language_info": {
   "codemirror_mode": {
    "name": "ipython",
    "version": 3
   },
   "file_extension": ".py",
   "mimetype": "text/x-python",
   "name": "python",
   "nbconvert_exporter": "python",
   "pygments_lexer": "ipython3",
   "version": "3.7.3"
  }
 },
 "nbformat": 4,
 "nbformat_minor": 2
}
