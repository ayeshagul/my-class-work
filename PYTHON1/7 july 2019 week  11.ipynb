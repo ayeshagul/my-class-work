{
 "cells": [
  {
   "cell_type": "markdown",
   "metadata": {},
   "source": [
    "# \"argument keyword\""
   ]
  },
  {
   "cell_type": "markdown",
   "metadata": {},
   "source": [
    "# args, kwargs"
   ]
  },
  {
   "cell_type": "code",
   "execution_count": 1,
   "metadata": {},
   "outputs": [],
   "source": [
    "def car(model, year):\n",
    "    print(model,year)"
   ]
  },
  {
   "cell_type": "code",
   "execution_count": 2,
   "metadata": {},
   "outputs": [
    {
     "name": "stdout",
     "output_type": "stream",
     "text": [
      "corolla 2019\n"
     ]
    }
   ],
   "source": [
    "car('corolla',2019)"
   ]
  },
  {
   "cell_type": "code",
   "execution_count": 3,
   "metadata": {},
   "outputs": [
    {
     "name": "stdout",
     "output_type": "stream",
     "text": [
      "2019 toyata\n"
     ]
    }
   ],
   "source": [
    "car(2019, 'toyata')"
   ]
  },
  {
   "cell_type": "code",
   "execution_count": 4,
   "metadata": {},
   "outputs": [
    {
     "name": "stdout",
     "output_type": "stream",
     "text": [
      "toyata 2018\n"
     ]
    }
   ],
   "source": [
    "car(year=2018,model='toyata')"
   ]
  },
  {
   "cell_type": "code",
   "execution_count": 5,
   "metadata": {},
   "outputs": [],
   "source": [
    "def name(fname,lname):\n",
    "    print(f'first name: {fname}')\n",
    "    print(f'last name:{lname}')      "
   ]
  },
  {
   "cell_type": "code",
   "execution_count": 6,
   "metadata": {},
   "outputs": [
    {
     "name": "stdout",
     "output_type": "stream",
     "text": [
      "first name: ayesha\n",
      "last name:gul\n"
     ]
    }
   ],
   "source": [
    "name('ayesha', 'gul')"
   ]
  },
  {
   "cell_type": "code",
   "execution_count": 7,
   "metadata": {},
   "outputs": [
    {
     "name": "stdout",
     "output_type": "stream",
     "text": [
      "first name: gul\n",
      "last name:ayesha\n"
     ]
    }
   ],
   "source": [
    "name(fname='gul' , lname='ayesha')"
   ]
  },
  {
   "cell_type": "code",
   "execution_count": 8,
   "metadata": {},
   "outputs": [
    {
     "name": "stdout",
     "output_type": "stream",
     "text": [
      "first name: gul\n",
      "last name:ayesha\n"
     ]
    }
   ],
   "source": [
    "name(lname='ayesha' , fname='gul')"
   ]
  },
  {
   "cell_type": "code",
   "execution_count": 34,
   "metadata": {},
   "outputs": [],
   "source": [
    "def name(fname,mname,lname):\n",
    "    print(f'first name: {fname}')\n",
    "    print(f'middle name: {mname}')\n",
    "    print(f'last name:{lname}')      "
   ]
  },
  {
   "cell_type": "code",
   "execution_count": 32,
   "metadata": {},
   "outputs": [
    {
     "ename": "SyntaxError",
     "evalue": "positional argument follows keyword argument (<ipython-input-32-3ace1ec15c01>, line 1)",
     "output_type": "error",
     "traceback": [
      "\u001b[1;36m  File \u001b[1;32m\"<ipython-input-32-3ace1ec15c01>\"\u001b[1;36m, line \u001b[1;32m1\u001b[0m\n\u001b[1;33m    name('john',mname='walton', 'smith')\u001b[0m\n\u001b[1;37m                               ^\u001b[0m\n\u001b[1;31mSyntaxError\u001b[0m\u001b[1;31m:\u001b[0m positional argument follows keyword argument\n"
     ]
    }
   ],
   "source": [
    "name('john',mname='walton', 'smith')"
   ]
  },
  {
   "cell_type": "code",
   "execution_count": null,
   "metadata": {},
   "outputs": [],
   "source": [
    "es error ka matlb ye hy k position argyment key word argument ko follow kar raha hay"
   ]
  },
  {
   "cell_type": "code",
   "execution_count": null,
   "metadata": {},
   "outputs": [],
   "source": [
    "sary keyword argument last me aany chahye"
   ]
  },
  {
   "cell_type": "code",
   "execution_count": 38,
   "metadata": {},
   "outputs": [],
   "source": [
    "def name(fname,lname,mname):\n",
    "    print(f'first name: {fname}')\n",
    "    print(f'middle name: {mname}')\n",
    "    print(f'last name:{lname}')      "
   ]
  },
  {
   "cell_type": "code",
   "execution_count": 39,
   "metadata": {},
   "outputs": [
    {
     "name": "stdout",
     "output_type": "stream",
     "text": [
      "first name: john\n",
      "middle name: walten\n",
      "last name:smith\n"
     ]
    }
   ],
   "source": [
    "name('john','smith',mname='walten')"
   ]
  },
  {
   "cell_type": "code",
   "execution_count": 40,
   "metadata": {},
   "outputs": [],
   "source": [
    "def name(fname,lname,mname):\n",
    "    print(f'first name: {fname}')\n",
    "    print(f'middle name: {mname}')\n",
    "    print(f'last name:{lname}')      "
   ]
  },
  {
   "cell_type": "code",
   "execution_count": 41,
   "metadata": {},
   "outputs": [
    {
     "name": "stdout",
     "output_type": "stream",
     "text": [
      "first name: john\n",
      "middle name: walten\n",
      "last name:smith\n"
     ]
    }
   ],
   "source": [
    "name('john','smith',mname='walten')"
   ]
  },
  {
   "cell_type": "markdown",
   "metadata": {},
   "source": [
    "# arbitary number of arguments"
   ]
  },
  {
   "cell_type": "code",
   "execution_count": 19,
   "metadata": {},
   "outputs": [],
   "source": [
    "def pizza(size, flovour, *toppings):\n",
    "    print(size, flovour)\n",
    "    print(toppings)"
   ]
  },
  {
   "cell_type": "code",
   "execution_count": 20,
   "metadata": {},
   "outputs": [
    {
     "name": "stdout",
     "output_type": "stream",
     "text": [
      "large chicken tikka\n",
      "('extra chesses', 'olives')\n"
     ]
    }
   ],
   "source": [
    "pizza('large', 'chicken tikka', 'extra chesses', 'olives')"
   ]
  },
  {
   "cell_type": "code",
   "execution_count": 21,
   "metadata": {},
   "outputs": [],
   "source": [
    "def pizza(size, flovour, *toppings):\n",
    "    print(size, flovour)\n",
    "    print(toppings)"
   ]
  },
  {
   "cell_type": "code",
   "execution_count": 22,
   "metadata": {},
   "outputs": [
    {
     "name": "stdout",
     "output_type": "stream",
     "text": [
      "small chicken spicy\n",
      "('extra chesses', 'olives')\n"
     ]
    }
   ],
   "source": [
    "pizza('small', 'chicken spicy', 'extra chesses', 'olives')"
   ]
  },
  {
   "cell_type": "code",
   "execution_count": 36,
   "metadata": {},
   "outputs": [],
   "source": [
    "def pizza(size, flovour, *toppings):\n",
    "    print(size, flovour)\n",
    "    print(toppings)"
   ]
  },
  {
   "cell_type": "code",
   "execution_count": 37,
   "metadata": {},
   "outputs": [
    {
     "name": "stdout",
     "output_type": "stream",
     "text": [
      "small chicken spicy\n",
      "('extra chesses', 'olives', 'chicken tikka')\n"
     ]
    }
   ],
   "source": [
    "pizza('small', 'chicken spicy', 'extra chesses', 'olives','chicken tikka')"
   ]
  },
  {
   "cell_type": "code",
   "execution_count": null,
   "metadata": {},
   "outputs": [],
   "source": [
    "agr koi user ziada argument pass karna chahta hay tou star k sath argument bnasakty hn"
   ]
  },
  {
   "cell_type": "code",
   "execution_count": 42,
   "metadata": {},
   "outputs": [],
   "source": [
    "def car(make, model,**specs):\n",
    "    print(make, model)\n",
    "    print(specs)"
   ]
  },
  {
   "cell_type": "code",
   "execution_count": 43,
   "metadata": {},
   "outputs": [
    {
     "name": "stdout",
     "output_type": "stream",
     "text": [
      "toyota prius\n",
      "{'transmission': 'automatic'}\n"
     ]
    }
   ],
   "source": [
    "car('toyota', 'prius', transmission = 'automatic')"
   ]
  },
  {
   "cell_type": "code",
   "execution_count": 44,
   "metadata": {},
   "outputs": [
    {
     "name": "stdout",
     "output_type": "stream",
     "text": [
      "toyota prius\n",
      "{'transmission': 'automatic', 'power': 'yes'}\n"
     ]
    }
   ],
   "source": [
    "car('toyota', 'prius', transmission = 'automatic', power = 'yes')"
   ]
  },
  {
   "cell_type": "code",
   "execution_count": null,
   "metadata": {},
   "outputs": [],
   "source": [
    "jitny b argument add karen gay wo sary k sary store hoty rahen gay"
   ]
  },
  {
   "cell_type": "markdown",
   "metadata": {},
   "source": [
    "# function as a variable"
   ]
  },
  {
   "cell_type": "code",
   "execution_count": 56,
   "metadata": {},
   "outputs": [],
   "source": [
    "def add (a, b):\n",
    "    c = a + b\n",
    "    return c   "
   ]
  },
  {
   "cell_type": "code",
   "execution_count": 46,
   "metadata": {},
   "outputs": [],
   "source": [
    "def sub (a, b):\n",
    "    c = a - b\n",
    "    return c"
   ]
  },
  {
   "cell_type": "code",
   "execution_count": 47,
   "metadata": {},
   "outputs": [],
   "source": [
    "result = add(2,2) + sub(6,3)"
   ]
  },
  {
   "cell_type": "code",
   "execution_count": 48,
   "metadata": {},
   "outputs": [
    {
     "name": "stdout",
     "output_type": "stream",
     "text": [
      "7\n"
     ]
    }
   ],
   "source": [
    "print(result)"
   ]
  },
  {
   "cell_type": "code",
   "execution_count": 57,
   "metadata": {},
   "outputs": [],
   "source": [
    "result = add('nasir', 'hussain')"
   ]
  },
  {
   "cell_type": "code",
   "execution_count": 58,
   "metadata": {},
   "outputs": [
    {
     "name": "stdout",
     "output_type": "stream",
     "text": [
      "nasirhussain\n"
     ]
    }
   ],
   "source": [
    "print(result)"
   ]
  },
  {
   "cell_type": "markdown",
   "metadata": {},
   "source": [
    "# while loop"
   ]
  },
  {
   "cell_type": "code",
   "execution_count": 59,
   "metadata": {},
   "outputs": [
    {
     "name": "stdout",
     "output_type": "stream",
     "text": [
      "0\n",
      "1\n",
      "2\n",
      "3\n",
      "4\n",
      "5\n",
      "6\n",
      "7\n",
      "8\n",
      "9\n"
     ]
    }
   ],
   "source": [
    "for a in range(10):\n",
    "    print(a)"
   ]
  },
  {
   "cell_type": "code",
   "execution_count": 60,
   "metadata": {},
   "outputs": [
    {
     "name": "stdout",
     "output_type": "stream",
     "text": [
      "0\n",
      "1\n",
      "2\n",
      "3\n",
      "4\n",
      "5\n",
      "6\n",
      "7\n",
      "8\n",
      "9\n"
     ]
    }
   ],
   "source": [
    "a = 0\n",
    "\n",
    "while a<10:\n",
    "    print(a)\n",
    "    a= a+1"
   ]
  },
  {
   "cell_type": "code",
   "execution_count": null,
   "metadata": {},
   "outputs": [],
   "source": [
    "while loop and for loop difference:?\n",
    "jb for loop start hota hay tou start say lekar end thk ye lazmi challta hay \n",
    "while loop jb thk chalo a ki value 10 say choti ho \n",
    "specific no of execution kar rahy hn \n"
   ]
  },
  {
   "cell_type": "code",
   "execution_count": 61,
   "metadata": {},
   "outputs": [
    {
     "name": "stdout",
     "output_type": "stream",
     "text": [
      "enter a toppingabc\n",
      "enter a toppings\n",
      "enter a toppingz\n",
      "enter a toppingw\n",
      "enter a toppingaa\n",
      "aa\n"
     ]
    }
   ],
   "source": [
    "topping = []\n",
    "for a in range(5):\n",
    "    toppings = input('enter a topping')\n",
    "    topping.append(toppings)\n",
    "print(toppings)    "
   ]
  },
  {
   "cell_type": "code",
   "execution_count": null,
   "metadata": {},
   "outputs": [
    {
     "name": "stdout",
     "output_type": "stream",
     "text": [
      "enter a toppingpasta\n",
      "enter a toppingchilli\n",
      "enter a toppingsause\n",
      "enter a toppingspicy roll\n",
      "enter a toppingq\n",
      "enter a toppingzinger burger\n"
     ]
    }
   ],
   "source": [
    "toppings = []\n",
    "flag = True\n",
    "while flag:\n",
    "    topping = input('enter a topping')\n",
    "    toppings.append(topping)\n",
    "if topping =='q' :\n",
    "    flag = False\n",
    "    \n",
    "    \n",
    "print(toppings)"
   ]
  },
  {
   "cell_type": "code",
   "execution_count": 1,
   "metadata": {},
   "outputs": [
    {
     "name": "stdout",
     "output_type": "stream",
     "text": [
      "enter a toppingaab\n",
      "enter a toppingbb\n",
      "enter a toppingstop\n",
      "['aab', 'bb']\n"
     ]
    }
   ],
   "source": [
    "topping = []\n",
    "flag = True\n",
    "while flag:\n",
    "    toppings = input('enter a topping')\n",
    "    if toppings =='stop':\n",
    "         flag = False\n",
    "    else:\n",
    "         topping.append(toppings)\n",
    "\n",
    "print(topping)"
   ]
  },
  {
   "cell_type": "code",
   "execution_count": null,
   "metadata": {},
   "outputs": [],
   "source": [
    "avaiableflavours =  [\"fjita\", \"tikka\", \" mexican\"]\n",
    "avaiablesize = [\"large\", \"medium\", \"small\"]\n",
    "avaiabletoppings=[\"olives\", \"chiesse\", \"hurbs\"]\n",
    "print(\"pizza order\")\n",
    "print()\n",
    "print()\n",
    "print()\n",
    "flag = True\n",
    "while flag:\n",
    "    print(availabesize)\n",
    "    size = input(\"enter pizza size\")\n",
    "    if size not in availabesize:\n",
    "        print(f\"{size} not avaiable\")\n",
    "        print(\"plz enter the size again\")\n",
    "        size = input(\"enter pizza size\")\n",
    "    \n",
    "        "
   ]
  },
  {
   "cell_type": "code",
   "execution_count": null,
   "metadata": {},
   "outputs": [],
   "source": [
    "pizza programee bnana hay home work"
   ]
  }
 ],
 "metadata": {
  "kernelspec": {
   "display_name": "Python 3",
   "language": "python",
   "name": "python3"
  },
  "language_info": {
   "codemirror_mode": {
    "name": "ipython",
    "version": 3
   },
   "file_extension": ".py",
   "mimetype": "text/x-python",
   "name": "python",
   "nbconvert_exporter": "python",
   "pygments_lexer": "ipython3",
   "version": "3.7.3"
  }
 },
 "nbformat": 4,
 "nbformat_minor": 2
}
